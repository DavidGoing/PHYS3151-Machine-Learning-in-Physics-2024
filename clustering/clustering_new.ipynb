{
  "metadata": {
    "kernelspec": {
      "name": "python3",
      "display_name": "Python 3",
      "language": "python"
    },
    "language_info": {
      "name": "python",
      "version": "3.7.3",
      "mimetype": "text/x-python",
      "codemirror_mode": {
        "name": "ipython",
        "version": 3
      },
      "pygments_lexer": "ipython3",
      "nbconvert_exporter": "python",
      "file_extension": ".py"
    },
    "colab": {
      "name": "clustering_new.ipynb",
      "provenance": [],
      "include_colab_link": true
    }
  },
  "nbformat_minor": 0,
  "nbformat": 4,
  "cells": [
    {
      "cell_type": "markdown",
      "metadata": {
        "id": "view-in-github",
        "colab_type": "text"
      },
      "source": [
        "<a href=\"https://colab.research.google.com/github/LeoisWTT/PHYS3151-Machine-Learning-in-Physics-2023/blob/main/clustering/clustering_new.ipynb\" target=\"_parent\"><img src=\"https://colab.research.google.com/assets/colab-badge.svg\" alt=\"Open In Colab\"/></a>"
      ]
    },
    {
      "cell_type": "markdown",
      "source": [
        "# Clustering"
      ],
      "metadata": {
        "id": "n7mK7LnbnYr4"
      }
    },
    {
      "cell_type": "markdown",
      "source": [
        "The general concept of clustering is to convert your data from a continuous space into a discrete groups. Since this is a unsupervised learning algorithm, the purpose of clustering is to determine underlying structures in the data rather than trying to find any specific insight into your data."
      ],
      "metadata": {
        "id": "b7Jms6SlnYr6"
      }
    },
    {
      "cell_type": "markdown",
      "source": [
        "## K-means clustering"
      ],
      "metadata": {
        "id": "U1b1jMwHnYr7"
      }
    },
    {
      "cell_type": "markdown",
      "source": [
        "The clustering method that this notebook will be focusing on is the K-means clustering. This is one of the most fundamental clustering technique."
      ],
      "metadata": {
        "id": "pGiMNuHOnYr7"
      }
    },
    {
      "cell_type": "markdown",
      "source": [
        "### Example 1"
      ],
      "metadata": {
        "id": "sAhEaSMAnYr8"
      }
    },
    {
      "cell_type": "markdown",
      "source": [
        "The first example will make use of the data from the previous (PCA) notebook. We will be determining the classes of wines in each category. \n",
        "<br>Data source:https://archive.ics.uci.edu/ml/datasets/Wine\n",
        "<br><br>First, import and preprocess the data."
      ],
      "metadata": {
        "id": "6_vfSnl4nYr8"
      }
    },
    {
      "cell_type": "code",
      "source": [
        "import pandas as pd\n",
        "from pandas import DataFrame\n",
        "import matplotlib.pyplot as plt  \n",
        "!git clone https://github.com/LeoisWTT/PHYS3151-Machine-Learning-in-Physics-2023"
      ],
      "metadata": {
        "jupyter": {
          "outputs_hidden": false
        },
        "trusted": true,
        "id": "RpqdL-BcnYr9",
        "outputId": "70f04ce9-6aad-4daa-9990-706983341b00",
        "colab": {
          "base_uri": "https://localhost:8080/"
        }
      },
      "execution_count": 1,
      "outputs": [
        {
          "output_type": "stream",
          "name": "stdout",
          "text": [
            "Cloning into 'PHYS3151-Machine-Learning-in-Physics-2023'...\n",
            "remote: Enumerating objects: 514, done.\u001b[K\n",
            "remote: Counting objects: 100% (97/97), done.\u001b[K\n",
            "remote: Compressing objects: 100% (95/95), done.\u001b[K\n",
            "remote: Total 514 (delta 51), reused 2 (delta 2), pack-reused 417\u001b[K\n",
            "Receiving objects: 100% (514/514), 29.43 MiB | 20.03 MiB/s, done.\n",
            "Resolving deltas: 100% (268/268), done.\n"
          ]
        }
      ]
    },
    {
      "cell_type": "code",
      "source": [
        "df = pd.read_csv(\"/content/PHYS3151-Machine-Learning-in-Physics-2023/clustering/clustering-example-1.csv\", sep=\",\")\n",
        "print(df)"
      ],
      "metadata": {
        "id": "xpXDtwQlnldH",
        "outputId": "cca46bd4-ab92-4c0c-f54e-3da7fb83fec6",
        "colab": {
          "base_uri": "https://localhost:8080/"
        }
      },
      "execution_count": 2,
      "outputs": [
        {
          "output_type": "stream",
          "name": "stdout",
          "text": [
            "     Type  Alcohol  Malic-Acid   Ash  Alcalinity  Magnesium  Total-Phenols  \\\n",
            "0       1    14.23        1.71  2.43        15.6        127           2.80   \n",
            "1       1    13.20        1.78  2.14        11.2        100           2.65   \n",
            "2       1    13.16        2.36  2.67        18.6        101           2.80   \n",
            "3       1    14.37        1.95  2.50        16.8        113           3.85   \n",
            "4       1    13.24        2.59  2.87        21.0        118           2.80   \n",
            "..    ...      ...         ...   ...         ...        ...            ...   \n",
            "173     3    13.71        5.65  2.45        20.5         95           1.68   \n",
            "174     3    13.40        3.91  2.48        23.0        102           1.80   \n",
            "175     3    13.27        4.28  2.26        20.0        120           1.59   \n",
            "176     3    13.17        2.59  2.37        20.0        120           1.65   \n",
            "177     3    14.13        4.10  2.74        24.5         96           2.05   \n",
            "\n",
            "     Flavanoids  Nonflavanoid-phenols  Proanthocyanins  Color-Intensity   Hue  \\\n",
            "0          3.06                  0.28             2.29             5.64  1.04   \n",
            "1          2.76                  0.26             1.28             4.38  1.05   \n",
            "2          3.24                  0.30             2.81             5.68  1.03   \n",
            "3          3.49                  0.24             2.18             7.80  0.86   \n",
            "4          2.69                  0.39             1.82             4.32  1.04   \n",
            "..          ...                   ...              ...              ...   ...   \n",
            "173        0.61                  0.52             1.06             7.70  0.64   \n",
            "174        0.75                  0.43             1.41             7.30  0.70   \n",
            "175        0.69                  0.43             1.35            10.20  0.59   \n",
            "176        0.68                  0.53             1.46             9.30  0.60   \n",
            "177        0.76                  0.56             1.35             9.20  0.61   \n",
            "\n",
            "     OD280/OD315  Proline  \n",
            "0           3.92     1065  \n",
            "1           3.40     1050  \n",
            "2           3.17     1185  \n",
            "3           3.45     1480  \n",
            "4           2.93      735  \n",
            "..           ...      ...  \n",
            "173         1.74      740  \n",
            "174         1.56      750  \n",
            "175         1.56      835  \n",
            "176         1.62      840  \n",
            "177         1.60      560  \n",
            "\n",
            "[178 rows x 14 columns]\n"
          ]
        }
      ]
    },
    {
      "cell_type": "code",
      "source": [
        "X = df.drop(columns=['Type'])\n",
        "y = df['Type']\n",
        "from sklearn import preprocessing                      #Feature scaling\n",
        "scaler = preprocessing.RobustScaler()\n",
        "X_scaled = scaler.fit_transform(X)\n",
        "X_scaled = pd.DataFrame(X_scaled,columns=list(X.columns.values))\n",
        "X = X_scaled\n",
        "print(X_scaled.shape)                              #look at the size of the data"
      ],
      "metadata": {
        "trusted": true,
        "id": "oZNjAry4nYr-",
        "outputId": "658a7cff-e031-44d2-af43-9c9e0b77df68",
        "colab": {
          "base_uri": "https://localhost:8080/"
        }
      },
      "execution_count": 3,
      "outputs": [
        {
          "output_type": "stream",
          "name": "stdout",
          "text": [
            "(178, 13)\n"
          ]
        }
      ]
    },
    {
      "cell_type": "code",
      "source": [
        "from sklearn.decomposition import PCA\n",
        "pca = PCA()\n",
        "principalComponents = pca.fit_transform(X)\n",
        "eigenvalues = pca.explained_variance_\n",
        "print(eigenvalues)"
      ],
      "metadata": {
        "id": "nXSzNYYhgHSY",
        "outputId": "bd3067b9-321b-484a-d944-488ac5509634",
        "colab": {
          "base_uri": "https://localhost:8080/"
        }
      },
      "execution_count": 4,
      "outputs": [
        {
          "output_type": "stream",
          "name": "stdout",
          "text": [
            "[2.13189786 1.2771651  0.82311103 0.50541037 0.4521742  0.36388209\n",
            " 0.31210811 0.16493188 0.13569671 0.1138693  0.10442731 0.06700648\n",
            " 0.0375163 ]\n"
          ]
        }
      ]
    },
    {
      "cell_type": "markdown",
      "source": [
        "#### Three Dimensions"
      ],
      "metadata": {
        "id": "hgp_HlwrnYr_"
      }
    },
    {
      "cell_type": "markdown",
      "source": [
        "Since we want to make the result of clustering easily visualizable, we will firstly reduce the data to 3 dimensions using PCA."
      ],
      "metadata": {
        "id": "mSSL_iTfnYr_"
      }
    },
    {
      "cell_type": "code",
      "source": [
        "#from sklearn.decomposition import PCA\n",
        "pca = PCA(n_components=3)\n",
        "principalComponents = pca.fit_transform(X)\n",
        "principalX = pd.DataFrame(data = principalComponents, columns = ['principal component 1', 'principal component 2','principal component 3'])\n",
        "finaldf = pd.concat([principalX, y], axis = 1)"
      ],
      "metadata": {
        "jupyter": {
          "outputs_hidden": false
        },
        "id": "2Tm8ABSMnYsA"
      },
      "execution_count": 5,
      "outputs": []
    },
    {
      "cell_type": "markdown",
      "source": [
        "Before clustering, we can plot the dimensionally reduced data to have a oveview."
      ],
      "metadata": {
        "id": "dbIA92tRnYsA"
      }
    },
    {
      "cell_type": "code",
      "source": [
        "from mpl_toolkits.mplot3d import Axes3D\n",
        "import matplotlib.pyplot as plt\n",
        "fig=plt.figure()\n",
        "ax = Axes3D(fig)\n",
        "\n",
        "x =principalX['principal component 1']\n",
        "y =principalX['principal component 2']\n",
        "z =principalX['principal component 3']\n",
        "ax.scatter(x, y, z, c='r', marker='o',s=10)\n",
        "ax.set_xlabel('principal component 1')\n",
        "ax.set_ylabel('principal component 2')\n",
        "ax.set_zlabel('principal component 3')\n",
        "ax.set_title('Principal Component')\n",
        "plt.show()"
      ],
      "metadata": {
        "jupyter": {
          "outputs_hidden": false
        },
        "id": "nqZDDMf_nYsB",
        "outputId": "7b284df6-e708-4883-9f83-3948c7ac1545",
        "colab": {
          "base_uri": "https://localhost:8080/",
          "height": 35
        }
      },
      "execution_count": 6,
      "outputs": [
        {
          "output_type": "display_data",
          "data": {
            "text/plain": [
              "<Figure size 432x288 with 0 Axes>"
            ]
          },
          "metadata": {}
        }
      ]
    },
    {
      "cell_type": "markdown",
      "source": [
        "Next, we apply the KMeans function from the sklearn package and then show the results in the figure below."
      ],
      "metadata": {
        "id": "8rYQ1jmInYsB"
      }
    },
    {
      "cell_type": "code",
      "source": [
        "from sklearn.cluster import KMeans\n",
        "kmeans = KMeans(n_clusters=3).fit(principalX)\n",
        "centroids = kmeans.cluster_centers_\n",
        "\n",
        "fig = plt.figure()\n",
        "ax = Axes3D(fig)\n",
        "x =principalX['principal component 1']\n",
        "y =principalX['principal component 2']\n",
        "z =principalX['principal component 3']\n",
        "ax.scatter(x, y, z, c= kmeans.labels_.astype(float),s=5, alpha=0.5)\n",
        "ax.scatter(centroids[:, 0], centroids[:, 1],centroids[:, 2], c='red', s=50, alpha=1)\n",
        "ax.set_xlabel('principal component 1')\n",
        "ax.set_ylabel('principal component 2')\n",
        "ax.set_zlabel('principal component 3')\n",
        "ax.set_title('3 Clusters in 3D')\n",
        "\n",
        "plt.show()"
      ],
      "metadata": {
        "jupyter": {
          "outputs_hidden": false
        },
        "id": "uGB4t-eonYsC",
        "outputId": "af17df50-3656-496a-80e8-d08c314684b5",
        "colab": {
          "base_uri": "https://localhost:8080/",
          "height": 71
        }
      },
      "execution_count": 7,
      "outputs": [
        {
          "output_type": "stream",
          "name": "stderr",
          "text": [
            "/usr/local/lib/python3.9/dist-packages/sklearn/cluster/_kmeans.py:870: FutureWarning: The default value of `n_init` will change from 10 to 'auto' in 1.4. Set the value of `n_init` explicitly to suppress the warning\n",
            "  warnings.warn(\n"
          ]
        },
        {
          "output_type": "display_data",
          "data": {
            "text/plain": [
              "<Figure size 432x288 with 0 Axes>"
            ]
          },
          "metadata": {}
        }
      ]
    },
    {
      "cell_type": "markdown",
      "source": [
        "The wine is now indeed split into 3 categories and this plot shows that the 3 categories are clustered around different parts of this principal component space. <br>The little dots are datapoints while the large red dots are where the 3 centroids are located. "
      ],
      "metadata": {
        "id": "C6081KFenYsD"
      }
    },
    {
      "cell_type": "markdown",
      "source": [
        "For comparison, let's try to apply KMeans clustering with 4 clusters this time."
      ],
      "metadata": {
        "id": "6H3CiP77nYsD"
      }
    },
    {
      "cell_type": "code",
      "source": [
        "from sklearn.cluster import KMeans\n",
        "kmeans = KMeans(n_clusters=4).fit(principalX)\n",
        "centroids = kmeans.cluster_centers_\n",
        "\n",
        "\n",
        "fig = plt.figure()\n",
        "ax = Axes3D(fig)\n",
        "x =principalX['principal component 1']\n",
        "y =principalX['principal component 2']\n",
        "z =principalX['principal component 3']\n",
        "ax.scatter(x, y, z, c= kmeans.labels_.astype(float),s=5, alpha=0.5)\n",
        "ax.scatter(centroids[:, 0], centroids[:, 1],centroids[:, 2], c='red', s=50, alpha=1)\n",
        "ax.set_xlabel('principal component 1')\n",
        "ax.set_ylabel('principal component 2')\n",
        "ax.set_zlabel('principal component 3')\n",
        "ax.set_title('4 Clusters in 3D')\n",
        "plt.show()"
      ],
      "metadata": {
        "jupyter": {
          "outputs_hidden": false
        },
        "id": "s4JdfXeAnYsE",
        "outputId": "074d96fd-522f-4f89-a9f3-1376335d9068",
        "colab": {
          "base_uri": "https://localhost:8080/",
          "height": 71
        }
      },
      "execution_count": 8,
      "outputs": [
        {
          "output_type": "stream",
          "name": "stderr",
          "text": [
            "/usr/local/lib/python3.9/dist-packages/sklearn/cluster/_kmeans.py:870: FutureWarning: The default value of `n_init` will change from 10 to 'auto' in 1.4. Set the value of `n_init` explicitly to suppress the warning\n",
            "  warnings.warn(\n"
          ]
        },
        {
          "output_type": "display_data",
          "data": {
            "text/plain": [
              "<Figure size 432x288 with 0 Axes>"
            ]
          },
          "metadata": {}
        }
      ]
    },
    {
      "cell_type": "markdown",
      "source": [
        "As this figure shows, the points are less clearly differentiable because the data is not actually split into 4 categories. Some categories are still far out but the others seem to be split in a continuum."
      ],
      "metadata": {
        "id": "edfjhoyunYsF"
      }
    },
    {
      "cell_type": "markdown",
      "source": [
        "It's always of significance to determine the number of clusters, namely K.\n",
        "    <br><br> As we often do in the first example, here we use an existent function to judge different Ks -- Calinski-Harabasz Index. The larger the index, the better the clustering."
      ],
      "metadata": {
        "id": "U9B122nYnYsF"
      }
    },
    {
      "cell_type": "code",
      "source": [
        "from sklearn import metrics\n",
        "Knumber=[]\n",
        "CHnumber=[]\n",
        "for i in range(2,9):\n",
        "    Knumber.append(i)\n",
        "    y_pred = KMeans(n_clusters=i).fit_predict(principalX)\n",
        "    CHnumber.append(metrics.calinski_harabasz_score(principalX,y_pred))"
      ],
      "metadata": {
        "jupyter": {
          "outputs_hidden": false
        },
        "id": "4ebX9Z6LnYsG",
        "outputId": "9ea398c5-1b0b-4ba0-ebfb-f6f618cd4c10",
        "colab": {
          "base_uri": "https://localhost:8080/"
        }
      },
      "execution_count": 9,
      "outputs": [
        {
          "output_type": "stream",
          "name": "stderr",
          "text": [
            "/usr/local/lib/python3.9/dist-packages/sklearn/cluster/_kmeans.py:870: FutureWarning: The default value of `n_init` will change from 10 to 'auto' in 1.4. Set the value of `n_init` explicitly to suppress the warning\n",
            "  warnings.warn(\n",
            "/usr/local/lib/python3.9/dist-packages/sklearn/cluster/_kmeans.py:870: FutureWarning: The default value of `n_init` will change from 10 to 'auto' in 1.4. Set the value of `n_init` explicitly to suppress the warning\n",
            "  warnings.warn(\n",
            "/usr/local/lib/python3.9/dist-packages/sklearn/cluster/_kmeans.py:870: FutureWarning: The default value of `n_init` will change from 10 to 'auto' in 1.4. Set the value of `n_init` explicitly to suppress the warning\n",
            "  warnings.warn(\n",
            "/usr/local/lib/python3.9/dist-packages/sklearn/cluster/_kmeans.py:870: FutureWarning: The default value of `n_init` will change from 10 to 'auto' in 1.4. Set the value of `n_init` explicitly to suppress the warning\n",
            "  warnings.warn(\n",
            "/usr/local/lib/python3.9/dist-packages/sklearn/cluster/_kmeans.py:870: FutureWarning: The default value of `n_init` will change from 10 to 'auto' in 1.4. Set the value of `n_init` explicitly to suppress the warning\n",
            "  warnings.warn(\n",
            "/usr/local/lib/python3.9/dist-packages/sklearn/cluster/_kmeans.py:870: FutureWarning: The default value of `n_init` will change from 10 to 'auto' in 1.4. Set the value of `n_init` explicitly to suppress the warning\n",
            "  warnings.warn(\n",
            "/usr/local/lib/python3.9/dist-packages/sklearn/cluster/_kmeans.py:870: FutureWarning: The default value of `n_init` will change from 10 to 'auto' in 1.4. Set the value of `n_init` explicitly to suppress the warning\n",
            "  warnings.warn(\n"
          ]
        }
      ]
    },
    {
      "cell_type": "markdown",
      "source": [
        "Now that we have measure a range of K numbers, plot is to have a view and select the best K for clustering this 3D dataset."
      ],
      "metadata": {
        "id": "_mIlO69wnYsG"
      }
    },
    {
      "cell_type": "code",
      "source": [
        "plt.plot(Knumber,CHnumber,marker='o',ls='--')\n",
        "plt.title('Looking for The Best K')\n",
        "plt.xlabel('K')\n",
        "plt.ylabel('Calinski-Harabasz Index')"
      ],
      "metadata": {
        "jupyter": {
          "outputs_hidden": false
        },
        "id": "WLh9TXgknYsH",
        "outputId": "43027c62-8073-4b7c-940b-27bc02abca69",
        "colab": {
          "base_uri": "https://localhost:8080/",
          "height": 313
        }
      },
      "execution_count": 10,
      "outputs": [
        {
          "output_type": "execute_result",
          "data": {
            "text/plain": [
              "Text(0, 0.5, 'Calinski-Harabasz Index')"
            ]
          },
          "metadata": {},
          "execution_count": 10
        },
        {
          "output_type": "display_data",
          "data": {
            "text/plain": [
              "<Figure size 432x288 with 1 Axes>"
            ],
            "image/png": "[encoded data removed]"
          },
          "metadata": {
            "needs_background": "light"
          }
        }
      ]
    },
    {
      "cell_type": "markdown",
      "source": [
        "This result shows that the data should best be split into 3 clusters, which is much better than the case of 4 cluster, just as what we our figures ploted before this measure showed."
      ],
      "metadata": {
        "id": "KjXJ2u8XnYsH"
      }
    },
    {
      "cell_type": "markdown",
      "source": [
        "#### Two Dimensions"
      ],
      "metadata": {
        "id": "8doemFQNnYsI"
      }
    },
    {
      "cell_type": "markdown",
      "source": [
        "After 3D case, we still want to see if clustering work well when we reduce our data into 2D."
      ],
      "metadata": {
        "id": "BVWKS-o1nYsI"
      }
    },
    {
      "cell_type": "markdown",
      "source": [
        "Since we have already showed a way to measure different clusterings, use it."
      ],
      "metadata": {
        "id": "whrCxKOfnYsJ"
      }
    },
    {
      "cell_type": "code",
      "source": [
        "from sklearn.decomposition import PCA\n",
        "pca2 = PCA(n_components=2)\n",
        "principalComponents2 = pca2.fit_transform(X)\n",
        "principalX2 = pd.DataFrame(data = principalComponents2, columns = ['principal component 1', 'principal component 2'])\n",
        "from sklearn import metrics\n",
        "Knumber2=[]\n",
        "CHnumber2=[]\n",
        "for i in range(2,9):\n",
        "    Knumber2.append(i)\n",
        "    y_pred = KMeans(n_clusters=i).fit_predict(principalX2)\n",
        "    CHnumber2.append(metrics.calinski_harabasz_score(principalX2,y_pred))\n",
        "plt.plot(Knumber2,CHnumber2,marker='o',ls='--')\n",
        "plt.title('Looking for The Best K')\n",
        "plt.xlabel('K')\n",
        "plt.ylabel('Calinski-Harabasz Index')\n"
      ],
      "metadata": {
        "jupyter": {
          "outputs_hidden": false
        },
        "id": "5_4fasUtnYsJ",
        "outputId": "b90f54c6-c8b8-4ea1-b536-4e1ca0d48dfd",
        "colab": {
          "base_uri": "https://localhost:8080/",
          "height": 563
        }
      },
      "execution_count": 11,
      "outputs": [
        {
          "output_type": "stream",
          "name": "stderr",
          "text": [
            "/usr/local/lib/python3.9/dist-packages/sklearn/cluster/_kmeans.py:870: FutureWarning: The default value of `n_init` will change from 10 to 'auto' in 1.4. Set the value of `n_init` explicitly to suppress the warning\n",
            "  warnings.warn(\n",
            "/usr/local/lib/python3.9/dist-packages/sklearn/cluster/_kmeans.py:870: FutureWarning: The default value of `n_init` will change from 10 to 'auto' in 1.4. Set the value of `n_init` explicitly to suppress the warning\n",
            "  warnings.warn(\n",
            "/usr/local/lib/python3.9/dist-packages/sklearn/cluster/_kmeans.py:870: FutureWarning: The default value of `n_init` will change from 10 to 'auto' in 1.4. Set the value of `n_init` explicitly to suppress the warning\n",
            "  warnings.warn(\n",
            "/usr/local/lib/python3.9/dist-packages/sklearn/cluster/_kmeans.py:870: FutureWarning: The default value of `n_init` will change from 10 to 'auto' in 1.4. Set the value of `n_init` explicitly to suppress the warning\n",
            "  warnings.warn(\n",
            "/usr/local/lib/python3.9/dist-packages/sklearn/cluster/_kmeans.py:870: FutureWarning: The default value of `n_init` will change from 10 to 'auto' in 1.4. Set the value of `n_init` explicitly to suppress the warning\n",
            "  warnings.warn(\n",
            "/usr/local/lib/python3.9/dist-packages/sklearn/cluster/_kmeans.py:870: FutureWarning: The default value of `n_init` will change from 10 to 'auto' in 1.4. Set the value of `n_init` explicitly to suppress the warning\n",
            "  warnings.warn(\n",
            "/usr/local/lib/python3.9/dist-packages/sklearn/cluster/_kmeans.py:870: FutureWarning: The default value of `n_init` will change from 10 to 'auto' in 1.4. Set the value of `n_init` explicitly to suppress the warning\n",
            "  warnings.warn(\n"
          ]
        },
        {
          "output_type": "execute_result",
          "data": {
            "text/plain": [
              "Text(0, 0.5, 'Calinski-Harabasz Index')"
            ]
          },
          "metadata": {},
          "execution_count": 11
        },
        {
          "output_type": "display_data",
          "data": {
            "text/plain": [
              "<Figure size 432x288 with 1 Axes>"
            ],
            "image/png": "[encoded data removed]"
          },
          "metadata": {
            "needs_background": "light"
          }
        }
      ]
    },
    {
      "cell_type": "markdown",
      "source": [
        "As the figure shows, it's still the best to have three clusters in 2D, then plot this case."
      ],
      "metadata": {
        "id": "l45mWQwCnYsJ"
      }
    },
    {
      "cell_type": "code",
      "source": [
        "kmeans = KMeans(n_clusters=3).fit(principalX2)\n",
        "centroids = kmeans.cluster_centers_\n",
        "print('centers are:',centroids)\n",
        "\n",
        "fig= plt.figure()\n",
        "x =principalX2['principal component 1']\n",
        "y =principalX2['principal component 2']\n",
        "\n",
        "plt.scatter(x, y, c= kmeans.labels_.astype(float),s=5, alpha=0.5)\n",
        "plt.scatter(centroids[:, 0], centroids[:, 1], c='red', s=50, alpha=1)\n",
        "plt.xlabel('principal component 1')\n",
        "plt.ylabel('principal component 2')\n",
        "plt.title('3 Clusters in 2D')\n",
        "\n",
        "plt.show()"
      ],
      "metadata": {
        "jupyter": {
          "outputs_hidden": false
        },
        "id": "A4_aIjnVnYsK",
        "outputId": "ed737fb6-a63c-40c1-c5f9-3e78241168c3",
        "colab": {
          "base_uri": "https://localhost:8080/",
          "height": 384
        }
      },
      "execution_count": 12,
      "outputs": [
        {
          "output_type": "stream",
          "name": "stderr",
          "text": [
            "/usr/local/lib/python3.9/dist-packages/sklearn/cluster/_kmeans.py:870: FutureWarning: The default value of `n_init` will change from 10 to 'auto' in 1.4. Set the value of `n_init` explicitly to suppress the warning\n",
            "  warnings.warn(\n"
          ]
        },
        {
          "output_type": "stream",
          "name": "stdout",
          "text": [
            "centers are: [[ 1.51790146 -0.71269024]\n",
            " [ 0.03341097  1.18770328]\n",
            " [-1.82965927 -0.72185697]]\n"
          ]
        },
        {
          "output_type": "display_data",
          "data": {
            "text/plain": [
              "<Figure size 432x288 with 1 Axes>"
            ],
            "image/png": "[encoded data removed]"
          },
          "metadata": {
            "needs_background": "light"
          }
        }
      ]
    },
    {
      "cell_type": "markdown",
      "source": [
        "It's true that the data are well classified."
      ],
      "metadata": {
        "id": "UfxSEZ2QnYsK"
      }
    },
    {
      "cell_type": "markdown",
      "source": [
        "### Example 2"
      ],
      "metadata": {
        "id": "mLfEnA1gjAfb"
      }
    },
    {
      "cell_type": "code",
      "source": [
        "import numpy as np\n",
        "import random as rd\n",
        "data = pd.read_csv('/content/PHYS3151-Machine-Learning-in-Physics-2023/clustering/K-means-clustering.csv',sep=\",\")\n",
        "print(data)"
      ],
      "metadata": {
        "colab": {
          "base_uri": "https://localhost:8080/"
        },
        "id": "b06rfyCAjRdi",
        "outputId": "f9964bc4-5302-465c-db51-4c5d9bb23e6c"
      },
      "execution_count": 13,
      "outputs": [
        {
          "output_type": "stream",
          "name": "stdout",
          "text": [
            "      Loan_ID  Gender Married Dependents     Education Self_Employed  \\\n",
            "0    LP001003    Male     Yes          1      Graduate            No   \n",
            "1    LP001005    Male     Yes          0      Graduate           Yes   \n",
            "2    LP001006    Male     Yes          0  Not Graduate            No   \n",
            "3    LP001008    Male      No          0      Graduate            No   \n",
            "4    LP001013    Male     Yes          0  Not Graduate            No   \n",
            "..        ...     ...     ...        ...           ...           ...   \n",
            "376  LP002953    Male     Yes         3+      Graduate            No   \n",
            "377  LP002974    Male     Yes          0      Graduate            No   \n",
            "378  LP002978  Female      No          0      Graduate            No   \n",
            "379  LP002979    Male     Yes         3+      Graduate            No   \n",
            "380  LP002990  Female      No          0      Graduate           Yes   \n",
            "\n",
            "     ApplicantIncome  CoapplicantIncome  LoanAmount  Loan_Amount_Term  \\\n",
            "0               4583             1508.0       128.0             360.0   \n",
            "1               3000                0.0        66.0             360.0   \n",
            "2               2583             2358.0       120.0             360.0   \n",
            "3               6000                0.0       141.0             360.0   \n",
            "4               2333             1516.0        95.0             360.0   \n",
            "..               ...                ...         ...               ...   \n",
            "376             5703                0.0       128.0             360.0   \n",
            "377             3232             1950.0       108.0             360.0   \n",
            "378             2900                0.0        71.0             360.0   \n",
            "379             4106                0.0        40.0             180.0   \n",
            "380             4583                0.0       133.0             360.0   \n",
            "\n",
            "     Credit_History Property_Area Loan_Status  \n",
            "0               1.0         Rural           N  \n",
            "1               1.0         Urban           Y  \n",
            "2               1.0         Urban           Y  \n",
            "3               1.0         Urban           Y  \n",
            "4               1.0         Urban           Y  \n",
            "..              ...           ...         ...  \n",
            "376             1.0         Urban           Y  \n",
            "377             1.0         Rural           Y  \n",
            "378             1.0         Rural           Y  \n",
            "379             1.0         Rural           Y  \n",
            "380             0.0     Semiurban           N  \n",
            "\n",
            "[381 rows x 13 columns]\n"
          ]
        }
      ]
    },
    {
      "cell_type": "code",
      "source": [
        "X = data[[\"LoanAmount\",\"ApplicantIncome\"]]\n",
        "plt.scatter(X[\"ApplicantIncome\"],X[\"LoanAmount\"],c='black')\n",
        "plt.xlabel('AnnualIncome')\n",
        "plt.ylabel('Loan Amount')\n",
        "plt.show()"
      ],
      "metadata": {
        "colab": {
          "base_uri": "https://localhost:8080/",
          "height": 279
        },
        "id": "X_Eu1rtPjbI0",
        "outputId": "93014237-a4ef-4ab7-d65f-1639f1fcc618"
      },
      "execution_count": 14,
      "outputs": [
        {
          "output_type": "display_data",
          "data": {
            "text/plain": [
              "<Figure size 432x288 with 1 Axes>"
            ],
            "image/png": "[encoded data removed]"
          },
          "metadata": {
            "needs_background": "light"
          }
        }
      ]
    },
    {
      "cell_type": "code",
      "source": [
        "# choose 3 clusters at random\n",
        "K=3\n",
        "\n",
        "# select random point as centroids\n",
        "Centroids = (X.sample(n=K))\n",
        "plt.scatter(X[\"ApplicantIncome\"],X[\"LoanAmount\"],c='black')\n",
        "plt.scatter(Centroids[\"ApplicantIncome\"],Centroids[\"LoanAmount\"],c='red')\n",
        "plt.xlabel('AnnualIncome')\n",
        "plt.ylabel('Loan Amount')\n",
        "plt.show()"
      ],
      "metadata": {
        "colab": {
          "base_uri": "https://localhost:8080/",
          "height": 279
        },
        "id": "YX29iNKkjeV5",
        "outputId": "3ab13492-98ec-4dba-e0fe-4a834284f73d"
      },
      "execution_count": 15,
      "outputs": [
        {
          "output_type": "display_data",
          "data": {
            "text/plain": [
              "<Figure size 432x288 with 1 Axes>"
            ],
            "image/png": "[encoded data removed]"
          },
          "metadata": {
            "needs_background": "light"
          }
        }
      ]
    },
    {
      "cell_type": "code",
      "source": [
        "# step 3 - assign all the points to the closest cluster centroid\n",
        "# step 4 - recomput centroids of newly formed clusters\n",
        "# step 5 - repeat 3 and 4\n",
        "\n",
        "diff = 1\n",
        "j = 0 \n",
        "\n",
        "while (diff!=0):\n",
        "    XD = X\n",
        "    i = 1\n",
        "    for index1,row_c in Centroids.iterrows():\n",
        "        ED = []\n",
        "        for index2,row_d in XD.iterrows():\n",
        "            d1 = (row_c[\"ApplicantIncome\"] - row_d[\"ApplicantIncome\"])**2\n",
        "            d2 = (row_c[\"LoanAmount\"] - row_d[\"LoanAmount\"])**2\n",
        "            d = np.sqrt(d1+d2)\n",
        "            ED.append(d)\n",
        "        X[i] = ED\n",
        "        i = i + 1\n",
        "        \n",
        "    C=[]\n",
        "    for index,row in X.iterrows():\n",
        "        min_dist = row[1]\n",
        "        pos = 1\n",
        "        for i in range(K):\n",
        "            if row[i+1] < min_dist:\n",
        "                min_dist = row[i+1]\n",
        "                pos = i + 1\n",
        "        C.append(pos)\n",
        "    X[\"Cluster\"]=C\n",
        "    Centroids_new = X.groupby([\"Cluster\"]).mean()[[\"LoanAmount\",\"ApplicantIncome\"]]\n",
        "    if j == 0:\n",
        "        diff = 1\n",
        "        j = j+1\n",
        "    else:\n",
        "        diff = (Centroids_new['LoanAmount'] - Centroids['LoanAmount']).sum() + (Centroids_new['ApplicantIncome'] - Centroids['ApplicantIncome']).sum()\n",
        "        print(diff.sum())\n",
        "    Centroids = X.groupby([\"Cluster\"]).mean()[[\"LoanAmount\",\"ApplicantIncome\"]]"
      ],
      "metadata": {
        "colab": {
          "base_uri": "https://localhost:8080/"
        },
        "id": "sk_ZnTJLjhxi",
        "outputId": "35674530-92d2-4014-fcfb-e342f8e1a91c"
      },
      "execution_count": 16,
      "outputs": [
        {
          "output_type": "stream",
          "name": "stderr",
          "text": [
            "<ipython-input-16-c7ccc9a6027a>:18: SettingWithCopyWarning: \n",
            "A value is trying to be set on a copy of a slice from a DataFrame.\n",
            "Try using .loc[row_indexer,col_indexer] = value instead\n",
            "\n",
            "See the caveats in the documentation: https://pandas.pydata.org/pandas-docs/stable/user_guide/indexing.html#returning-a-view-versus-a-copy\n",
            "  X[i] = ED\n",
            "<ipython-input-16-c7ccc9a6027a>:18: SettingWithCopyWarning: \n",
            "A value is trying to be set on a copy of a slice from a DataFrame.\n",
            "Try using .loc[row_indexer,col_indexer] = value instead\n",
            "\n",
            "See the caveats in the documentation: https://pandas.pydata.org/pandas-docs/stable/user_guide/indexing.html#returning-a-view-versus-a-copy\n",
            "  X[i] = ED\n",
            "<ipython-input-16-c7ccc9a6027a>:18: SettingWithCopyWarning: \n",
            "A value is trying to be set on a copy of a slice from a DataFrame.\n",
            "Try using .loc[row_indexer,col_indexer] = value instead\n",
            "\n",
            "See the caveats in the documentation: https://pandas.pydata.org/pandas-docs/stable/user_guide/indexing.html#returning-a-view-versus-a-copy\n",
            "  X[i] = ED\n",
            "<ipython-input-16-c7ccc9a6027a>:30: SettingWithCopyWarning: \n",
            "A value is trying to be set on a copy of a slice from a DataFrame.\n",
            "Try using .loc[row_indexer,col_indexer] = value instead\n",
            "\n",
            "See the caveats in the documentation: https://pandas.pydata.org/pandas-docs/stable/user_guide/indexing.html#returning-a-view-versus-a-copy\n",
            "  X[\"Cluster\"]=C\n",
            "<ipython-input-16-c7ccc9a6027a>:18: SettingWithCopyWarning: \n",
            "A value is trying to be set on a copy of a slice from a DataFrame.\n",
            "Try using .loc[row_indexer,col_indexer] = value instead\n",
            "\n",
            "See the caveats in the documentation: https://pandas.pydata.org/pandas-docs/stable/user_guide/indexing.html#returning-a-view-versus-a-copy\n",
            "  X[i] = ED\n",
            "<ipython-input-16-c7ccc9a6027a>:30: SettingWithCopyWarning: \n",
            "A value is trying to be set on a copy of a slice from a DataFrame.\n",
            "Try using .loc[row_indexer,col_indexer] = value instead\n",
            "\n",
            "See the caveats in the documentation: https://pandas.pydata.org/pandas-docs/stable/user_guide/indexing.html#returning-a-view-versus-a-copy\n",
            "  X[\"Cluster\"]=C\n"
          ]
        },
        {
          "output_type": "stream",
          "name": "stdout",
          "text": [
            "267.52799657019733\n"
          ]
        },
        {
          "output_type": "stream",
          "name": "stderr",
          "text": [
            "<ipython-input-16-c7ccc9a6027a>:18: SettingWithCopyWarning: \n",
            "A value is trying to be set on a copy of a slice from a DataFrame.\n",
            "Try using .loc[row_indexer,col_indexer] = value instead\n",
            "\n",
            "See the caveats in the documentation: https://pandas.pydata.org/pandas-docs/stable/user_guide/indexing.html#returning-a-view-versus-a-copy\n",
            "  X[i] = ED\n",
            "<ipython-input-16-c7ccc9a6027a>:30: SettingWithCopyWarning: \n",
            "A value is trying to be set on a copy of a slice from a DataFrame.\n",
            "Try using .loc[row_indexer,col_indexer] = value instead\n",
            "\n",
            "See the caveats in the documentation: https://pandas.pydata.org/pandas-docs/stable/user_guide/indexing.html#returning-a-view-versus-a-copy\n",
            "  X[\"Cluster\"]=C\n",
            "<ipython-input-16-c7ccc9a6027a>:18: SettingWithCopyWarning: \n",
            "A value is trying to be set on a copy of a slice from a DataFrame.\n",
            "Try using .loc[row_indexer,col_indexer] = value instead\n",
            "\n",
            "See the caveats in the documentation: https://pandas.pydata.org/pandas-docs/stable/user_guide/indexing.html#returning-a-view-versus-a-copy\n",
            "  X[i] = ED\n"
          ]
        },
        {
          "output_type": "stream",
          "name": "stdout",
          "text": [
            "136.0080684533882\n"
          ]
        },
        {
          "output_type": "stream",
          "name": "stderr",
          "text": [
            "<ipython-input-16-c7ccc9a6027a>:30: SettingWithCopyWarning: \n",
            "A value is trying to be set on a copy of a slice from a DataFrame.\n",
            "Try using .loc[row_indexer,col_indexer] = value instead\n",
            "\n",
            "See the caveats in the documentation: https://pandas.pydata.org/pandas-docs/stable/user_guide/indexing.html#returning-a-view-versus-a-copy\n",
            "  X[\"Cluster\"]=C\n",
            "<ipython-input-16-c7ccc9a6027a>:18: SettingWithCopyWarning: \n",
            "A value is trying to be set on a copy of a slice from a DataFrame.\n",
            "Try using .loc[row_indexer,col_indexer] = value instead\n",
            "\n",
            "See the caveats in the documentation: https://pandas.pydata.org/pandas-docs/stable/user_guide/indexing.html#returning-a-view-versus-a-copy\n",
            "  X[i] = ED\n"
          ]
        },
        {
          "output_type": "stream",
          "name": "stdout",
          "text": [
            "52.84741626127729\n"
          ]
        },
        {
          "output_type": "stream",
          "name": "stderr",
          "text": [
            "<ipython-input-16-c7ccc9a6027a>:30: SettingWithCopyWarning: \n",
            "A value is trying to be set on a copy of a slice from a DataFrame.\n",
            "Try using .loc[row_indexer,col_indexer] = value instead\n",
            "\n",
            "See the caveats in the documentation: https://pandas.pydata.org/pandas-docs/stable/user_guide/indexing.html#returning-a-view-versus-a-copy\n",
            "  X[\"Cluster\"]=C\n",
            "<ipython-input-16-c7ccc9a6027a>:18: SettingWithCopyWarning: \n",
            "A value is trying to be set on a copy of a slice from a DataFrame.\n",
            "Try using .loc[row_indexer,col_indexer] = value instead\n",
            "\n",
            "See the caveats in the documentation: https://pandas.pydata.org/pandas-docs/stable/user_guide/indexing.html#returning-a-view-versus-a-copy\n",
            "  X[i] = ED\n",
            "<ipython-input-16-c7ccc9a6027a>:30: SettingWithCopyWarning: \n",
            "A value is trying to be set on a copy of a slice from a DataFrame.\n",
            "Try using .loc[row_indexer,col_indexer] = value instead\n",
            "\n",
            "See the caveats in the documentation: https://pandas.pydata.org/pandas-docs/stable/user_guide/indexing.html#returning-a-view-versus-a-copy\n",
            "  X[\"Cluster\"]=C\n"
          ]
        },
        {
          "output_type": "stream",
          "name": "stdout",
          "text": [
            "98.54724443834282\n",
            "90.64953219227577\n"
          ]
        },
        {
          "output_type": "stream",
          "name": "stderr",
          "text": [
            "<ipython-input-16-c7ccc9a6027a>:18: SettingWithCopyWarning: \n",
            "A value is trying to be set on a copy of a slice from a DataFrame.\n",
            "Try using .loc[row_indexer,col_indexer] = value instead\n",
            "\n",
            "See the caveats in the documentation: https://pandas.pydata.org/pandas-docs/stable/user_guide/indexing.html#returning-a-view-versus-a-copy\n",
            "  X[i] = ED\n",
            "<ipython-input-16-c7ccc9a6027a>:30: SettingWithCopyWarning: \n",
            "A value is trying to be set on a copy of a slice from a DataFrame.\n",
            "Try using .loc[row_indexer,col_indexer] = value instead\n",
            "\n",
            "See the caveats in the documentation: https://pandas.pydata.org/pandas-docs/stable/user_guide/indexing.html#returning-a-view-versus-a-copy\n",
            "  X[\"Cluster\"]=C\n",
            "<ipython-input-16-c7ccc9a6027a>:18: SettingWithCopyWarning: \n",
            "A value is trying to be set on a copy of a slice from a DataFrame.\n",
            "Try using .loc[row_indexer,col_indexer] = value instead\n",
            "\n",
            "See the caveats in the documentation: https://pandas.pydata.org/pandas-docs/stable/user_guide/indexing.html#returning-a-view-versus-a-copy\n",
            "  X[i] = ED\n"
          ]
        },
        {
          "output_type": "stream",
          "name": "stdout",
          "text": [
            "18.274686272279013\n",
            "9.21023994083339\n"
          ]
        },
        {
          "output_type": "stream",
          "name": "stderr",
          "text": [
            "<ipython-input-16-c7ccc9a6027a>:30: SettingWithCopyWarning: \n",
            "A value is trying to be set on a copy of a slice from a DataFrame.\n",
            "Try using .loc[row_indexer,col_indexer] = value instead\n",
            "\n",
            "See the caveats in the documentation: https://pandas.pydata.org/pandas-docs/stable/user_guide/indexing.html#returning-a-view-versus-a-copy\n",
            "  X[\"Cluster\"]=C\n",
            "<ipython-input-16-c7ccc9a6027a>:18: SettingWithCopyWarning: \n",
            "A value is trying to be set on a copy of a slice from a DataFrame.\n",
            "Try using .loc[row_indexer,col_indexer] = value instead\n",
            "\n",
            "See the caveats in the documentation: https://pandas.pydata.org/pandas-docs/stable/user_guide/indexing.html#returning-a-view-versus-a-copy\n",
            "  X[i] = ED\n",
            "<ipython-input-16-c7ccc9a6027a>:30: SettingWithCopyWarning: \n",
            "A value is trying to be set on a copy of a slice from a DataFrame.\n",
            "Try using .loc[row_indexer,col_indexer] = value instead\n",
            "\n",
            "See the caveats in the documentation: https://pandas.pydata.org/pandas-docs/stable/user_guide/indexing.html#returning-a-view-versus-a-copy\n",
            "  X[\"Cluster\"]=C\n",
            "<ipython-input-16-c7ccc9a6027a>:18: SettingWithCopyWarning: \n",
            "A value is trying to be set on a copy of a slice from a DataFrame.\n",
            "Try using .loc[row_indexer,col_indexer] = value instead\n",
            "\n",
            "See the caveats in the documentation: https://pandas.pydata.org/pandas-docs/stable/user_guide/indexing.html#returning-a-view-versus-a-copy\n",
            "  X[i] = ED\n"
          ]
        },
        {
          "output_type": "stream",
          "name": "stdout",
          "text": [
            "18.345487493007468\n"
          ]
        },
        {
          "output_type": "stream",
          "name": "stderr",
          "text": [
            "<ipython-input-16-c7ccc9a6027a>:30: SettingWithCopyWarning: \n",
            "A value is trying to be set on a copy of a slice from a DataFrame.\n",
            "Try using .loc[row_indexer,col_indexer] = value instead\n",
            "\n",
            "See the caveats in the documentation: https://pandas.pydata.org/pandas-docs/stable/user_guide/indexing.html#returning-a-view-versus-a-copy\n",
            "  X[\"Cluster\"]=C\n",
            "<ipython-input-16-c7ccc9a6027a>:18: SettingWithCopyWarning: \n",
            "A value is trying to be set on a copy of a slice from a DataFrame.\n",
            "Try using .loc[row_indexer,col_indexer] = value instead\n",
            "\n",
            "See the caveats in the documentation: https://pandas.pydata.org/pandas-docs/stable/user_guide/indexing.html#returning-a-view-versus-a-copy\n",
            "  X[i] = ED\n"
          ]
        },
        {
          "output_type": "stream",
          "name": "stdout",
          "text": [
            "46.27013250786139\n",
            "0.0\n"
          ]
        },
        {
          "output_type": "stream",
          "name": "stderr",
          "text": [
            "<ipython-input-16-c7ccc9a6027a>:30: SettingWithCopyWarning: \n",
            "A value is trying to be set on a copy of a slice from a DataFrame.\n",
            "Try using .loc[row_indexer,col_indexer] = value instead\n",
            "\n",
            "See the caveats in the documentation: https://pandas.pydata.org/pandas-docs/stable/user_guide/indexing.html#returning-a-view-versus-a-copy\n",
            "  X[\"Cluster\"]=C\n"
          ]
        }
      ]
    },
    {
      "cell_type": "code",
      "source": [
        "color=['blue','green','cyan']\n",
        "for k in range(K):\n",
        "    data=X[X[\"Cluster\"]==k+1]\n",
        "    plt.scatter(data[\"ApplicantIncome\"],data[\"LoanAmount\"],c=color[k])\n",
        "plt.scatter(Centroids[\"ApplicantIncome\"],Centroids[\"LoanAmount\"],c='red')\n",
        "plt.xlabel('Income')\n",
        "plt.ylabel('Loan Amount')\n",
        "plt.show()"
      ],
      "metadata": {
        "colab": {
          "base_uri": "https://localhost:8080/",
          "height": 279
        },
        "id": "I7rdg9bUjsxS",
        "outputId": "f1c01466-4709-460f-f87a-bcfa994d068a"
      },
      "execution_count": 17,
      "outputs": [
        {
          "output_type": "display_data",
          "data": {
            "text/plain": [
              "<Figure size 432x288 with 1 Axes>"
            ],
            "image/png": "[encoded data removed]"
          },
          "metadata": {
            "needs_background": "light"
          }
        }
      ]
    },
    {
      "cell_type": "markdown",
      "source": [
        "### Example 3"
      ],
      "metadata": {
        "id": "18gWTFE-nYsK"
      }
    },
    {
      "cell_type": "markdown",
      "source": [
        "As with all the other notebooks, in this example, a version of the algorithm will be written from scratch to allow for more detailed examination of the method."
      ],
      "metadata": {
        "id": "8c41WM8TnYsK"
      }
    },
    {
      "cell_type": "markdown",
      "source": [
        "For this example we will be using data relating to Facebook live sellers in Thailand. The data includes information on the type of posts as well as the number of likes, reacts to those posts etc.\n",
        "<br>Data Source:https://archive.ics.uci.edu/ml/datasets/Facebook+Live+Sellers+in+Thailand"
      ],
      "metadata": {
        "id": "giVcXtBfnYsL"
      }
    },
    {
      "cell_type": "markdown",
      "source": [
        "#### Data Preparation"
      ],
      "metadata": {
        "id": "58jaXygnnYsL"
      }
    },
    {
      "cell_type": "markdown",
      "source": [
        "First of all, import the packages which will be used and preprocess the initial data."
      ],
      "metadata": {
        "id": "rgDQYz5BnYsL"
      }
    },
    {
      "cell_type": "code",
      "source": [
        "import numpy as np\n",
        "import pandas as pd\n",
        "from pandas import DataFrame\n",
        "import matplotlib.pyplot as plt\n",
        "\n",
        "df = pd.read_csv(\"/content/PHYS3151-Machine-Learning-in-Physics-2023/clustering/clustering-example-2.csv\", sep=\",\")\n",
        "\n",
        "X = df.drop(columns=['status_id','status_published','status_type'])\n",
        "#y = df[df.columns[-1]]\n",
        "from sklearn import preprocessing\n",
        "scaler = preprocessing.StandardScaler()\n",
        "X_scaled = scaler.fit_transform(X)\n",
        "X_scaled = pd.DataFrame(X_scaled,columns=list(X.columns.values))\n",
        "X = X_scaled\n",
        "print(X_scaled.shape)                                 #look at the size of the data"
      ],
      "metadata": {
        "scrolled": true,
        "jupyter": {
          "outputs_hidden": false
        },
        "trusted": true,
        "id": "5ZJD6VBSnYsL",
        "outputId": "84bb598b-5bea-4736-ee17-3af18d5ec260",
        "colab": {
          "base_uri": "https://localhost:8080/"
        }
      },
      "execution_count": 18,
      "outputs": [
        {
          "output_type": "stream",
          "name": "stdout",
          "text": [
            "(7050, 9)\n"
          ]
        }
      ]
    },
    {
      "cell_type": "markdown",
      "source": [
        "#### Pricipal Components"
      ],
      "metadata": {
        "id": "RrFzybZ0nYsL"
      }
    },
    {
      "cell_type": "markdown",
      "source": [
        "Now, we will again use PCA to reduce this data to 3D for ease visualization."
      ],
      "metadata": {
        "id": "6I9pKrzonYsM"
      }
    },
    {
      "cell_type": "code",
      "source": [
        "from sklearn.decomposition import PCA\n",
        "pca = PCA(n_components=3)\n",
        "principalComponents = pca.fit_transform(X)"
      ],
      "metadata": {
        "jupyter": {
          "outputs_hidden": false
        },
        "id": "AHIj1uronYsM"
      },
      "execution_count": 19,
      "outputs": []
    },
    {
      "cell_type": "markdown",
      "source": [
        "Before clustering, we can have a look at the figure of reduced data in 3D."
      ],
      "metadata": {
        "id": "ahBUZwIYnYsM"
      }
    },
    {
      "cell_type": "code",
      "source": [
        "from mpl_toolkits.mplot3d import Axes3D\n",
        "fig = plt.figure()\n",
        "ax = Axes3D(fig)\n",
        "x =principalComponents[:,0]\n",
        "y =principalComponents[:,1]\n",
        "z =principalComponents[:,2]\n",
        "ax.scatter(x, y, z, c='r', marker='o',s=10)\n",
        "ax.set_xlabel('principal component 1')\n",
        "ax.set_ylabel('principal component 2')\n",
        "ax.set_zlabel('principal component 3')\n",
        "ax.set_title('Principal Components')\n",
        "ax.view_init(elev=55,azim=130)           #view from different perspective\n",
        "plt.show()"
      ],
      "metadata": {
        "jupyter": {
          "outputs_hidden": false
        },
        "id": "TEjnV0sjnYsM",
        "outputId": "182e97ef-c40c-4d1d-95d8-cf370e6aa8bb",
        "colab": {
          "base_uri": "https://localhost:8080/",
          "height": 35
        }
      },
      "execution_count": 20,
      "outputs": [
        {
          "output_type": "display_data",
          "data": {
            "text/plain": [
              "<Figure size 432x288 with 0 Axes>"
            ]
          },
          "metadata": {}
        }
      ]
    },
    {
      "cell_type": "code",
      "source": [
        "x =principalComponents[ : ,0]\n",
        "y =principalComponents[ : ,1]\n",
        "plt.scatter(x, y,s=5, alpha=0.3)\n",
        "plt.xlabel('principal component 1')\n",
        "plt.ylabel('principal component 2')\n",
        "plt.title('2D 4 Clusters')\n",
        "\n",
        "plt.show()"
      ],
      "metadata": {
        "colab": {
          "base_uri": "https://localhost:8080/",
          "height": 295
        },
        "id": "ONqzqK6Vj8CZ",
        "outputId": "cc44979d-2d4e-4200-8064-80b866d37c8e"
      },
      "execution_count": 21,
      "outputs": [
        {
          "output_type": "display_data",
          "data": {
            "text/plain": [
              "<Figure size 432x288 with 1 Axes>"
            ],
            "image/png": "[encoded data removed]"
          },
          "metadata": {
            "needs_background": "light"
          }
        }
      ]
    },
    {
      "cell_type": "markdown",
      "source": [
        "#### Clustering Function"
      ],
      "metadata": {
        "id": "2bdIvTi0nYsM"
      }
    },
    {
      "cell_type": "markdown",
      "source": [
        "Now, we define a function to realize K means clustering.\n",
        "<br>Remember the inner logic is that K means is a repeatedly 2-step process: \n",
        "1. Cluster assignment according to the centroids set before. \n",
        "2.Take each centroid and move to the average of the correspondingly assigned data-points."
      ],
      "metadata": {
        "id": "1bm2G_MinYsM"
      }
    },
    {
      "cell_type": "code",
      "source": [
        "from sklearn.metrics import pairwise_distances_argmin\n",
        "\n",
        "def find_clusters(X, n_clusters, rseed=2):\n",
        "    # First we need to randomly choose clusters\n",
        "    rng = np.random.RandomState(rseed)\n",
        "    i = rng.permutation(X.shape[0])[:n_clusters]\n",
        "    centers = X[i]\n",
        "    \n",
        "    # Next, we have to loop this algorithm to approach the optimal position of the cluster centers.\n",
        "    while True:\n",
        "        # Assign labels based on closest center\n",
        "        labels = pairwise_distances_argmin(X, centers)\n",
        "        \n",
        "        # Find new centers from means of points\n",
        "        new_centers = np.array([X[labels == i].mean(0) for i in range(n_clusters)])\n",
        "        \n",
        "        # Check for convergence\n",
        "        if np.all(centers == new_centers):\n",
        "            break\n",
        "        centers = new_centers\n",
        "    \n",
        "    return centers, labels"
      ],
      "metadata": {
        "jupyter": {
          "outputs_hidden": false
        },
        "id": "458LgRh2nYsM"
      },
      "execution_count": 22,
      "outputs": []
    },
    {
      "cell_type": "markdown",
      "source": [
        "#### Distortion"
      ],
      "metadata": {
        "id": "wAIoHPC6nYsN"
      }
    },
    {
      "cell_type": "markdown",
      "source": [
        "Like the first example ,we want a measurement for the clustering and here we define the distortion(distortion cost function):\n",
        "    <br>\n",
        "$$J=\\frac{1}{m}\\sum_{i=1}^m||x^{(i)}-\\mu_{c^{i}}||^2$$"
      ],
      "metadata": {
        "id": "IKfNLz9gnYsN"
      }
    },
    {
      "cell_type": "code",
      "source": [
        "def distortion(X,n_clusters):\n",
        "    centers, labels=find_clusters(principalComponents, n_clusters)\n",
        "    cost=0\n",
        "    for i in range(0,len(X)):\n",
        "        cost=cost+np.square(np.linalg.norm(X[i]-centers[labels[i]]))\n",
        "    cost=cost/len(X)\n",
        "    return cost"
      ],
      "metadata": {
        "jupyter": {
          "outputs_hidden": false
        },
        "id": "dbYZt7LEnYsN"
      },
      "execution_count": 23,
      "outputs": []
    },
    {
      "cell_type": "markdown",
      "source": [
        "#### Elbow Method"
      ],
      "metadata": {
        "id": "k7wM_5-xnYsN"
      }
    },
    {
      "cell_type": "markdown",
      "source": [
        "Choosing the number of clusters is of great importance.\n",
        "<br><br>Here we introduce Elbow method, which is to vary K and compute cost function at a range of K values. And while the cost_function decrease, we choose the elbow point in the plot as K.\n",
        "<br>Note, it can happen that you don't get a a nice line -> no clear elbow on curve."
      ],
      "metadata": {
        "id": "52W5lNd9nYsN"
      }
    },
    {
      "cell_type": "code",
      "source": [
        "Kn=[]\n",
        "distortions=[]\n",
        "for i in range(2,8):\n",
        "    Kn.append(i)\n",
        "    distortions.append(distortion(principalComponents,i))\n",
        "plt.plot(Kn,distortions,ls='--',marker='o')\n",
        "plt.xlabel('K')\n",
        "plt.ylabel('J')\n",
        "plt.title('J vs K')"
      ],
      "metadata": {
        "jupyter": {
          "outputs_hidden": false
        },
        "id": "hEfAUiXBnYsN",
        "outputId": "23a7cebb-da30-47e1-bdc5-b41790010a4e",
        "colab": {
          "base_uri": "https://localhost:8080/",
          "height": 313
        }
      },
      "execution_count": 24,
      "outputs": [
        {
          "output_type": "execute_result",
          "data": {
            "text/plain": [
              "Text(0.5, 1.0, 'J vs K')"
            ]
          },
          "metadata": {},
          "execution_count": 24
        },
        {
          "output_type": "display_data",
          "data": {
            "text/plain": [
              "<Figure size 432x288 with 1 Axes>"
            ],
            "image/png": "[encoded data removed]"
          },
          "metadata": {
            "needs_background": "light"
          }
        }
      ]
    },
    {
      "cell_type": "markdown",
      "source": [
        "In this case, K=4 would probably be the elbow."
      ],
      "metadata": {
        "id": "mBAkb-drnYsO"
      }
    },
    {
      "cell_type": "markdown",
      "source": [
        "#### Clustering Visualization"
      ],
      "metadata": {
        "id": "oKi8FRl9nYsO"
      }
    },
    {
      "cell_type": "markdown",
      "source": [
        "So, choose K to be 4 and plot the clusters."
      ],
      "metadata": {
        "id": "OKvslCtqnYsO"
      }
    },
    {
      "cell_type": "code",
      "source": [
        "centers, labels = find_clusters(principalComponents, 4)\n",
        "print(centers)"
      ],
      "metadata": {
        "jupyter": {
          "outputs_hidden": false
        },
        "id": "H8z0Qte-nYsO",
        "outputId": "62e22def-11ce-47d1-d15a-11cfac6fcb04",
        "colab": {
          "base_uri": "https://localhost:8080/"
        }
      },
      "execution_count": 25,
      "outputs": [
        {
          "output_type": "stream",
          "name": "stdout",
          "text": [
            "[[ 1.68219659  4.62725424  0.46382005]\n",
            " [11.71909405 -1.91858786 -1.49220877]\n",
            " [-0.55520261 -0.14639031 -0.08425304]\n",
            " [ 2.79595995 -1.15839272  0.79972746]]\n"
          ]
        }
      ]
    },
    {
      "cell_type": "code",
      "source": [
        "fig = plt.figure()\n",
        "ax = Axes3D(fig)\n",
        "x =principalComponents[ : ,0]\n",
        "y =principalComponents[ : ,1]\n",
        "z =principalComponents[ : ,2]\n",
        "ax.scatter(x, y, z, c= labels,s=5, alpha=0.3)\n",
        "ax.scatter(centers[:,0], centers[:,1],centers[:,2],c='red', s=90, alpha=1)\n",
        "ax.set_xlabel('principal component 1')\n",
        "ax.set_ylabel('principal component 2')\n",
        "ax.set_zlabel('principal component 3')\n",
        "ax.set_zlim(-15,15)\n",
        "ax.set_title('3D 4 Clusters')\n",
        "ax.view_init(elev=50,azim=50)           #view from different perspective\n",
        "\n",
        "plt.show()"
      ],
      "metadata": {
        "jupyter": {
          "outputs_hidden": false
        },
        "id": "YioMWz-RnYsO",
        "outputId": "7a1f3e7a-3ee0-4e4d-fc54-f48b3a17099b",
        "colab": {
          "base_uri": "https://localhost:8080/",
          "height": 35
        }
      },
      "execution_count": 26,
      "outputs": [
        {
          "output_type": "display_data",
          "data": {
            "text/plain": [
              "<Figure size 432x288 with 0 Axes>"
            ]
          },
          "metadata": {}
        }
      ]
    },
    {
      "cell_type": "markdown",
      "source": [
        "Generally speaking, this is an acceptable classification."
      ],
      "metadata": {
        "id": "32AHImrwnYsO"
      }
    },
    {
      "cell_type": "markdown",
      "source": [
        "#### 2D"
      ],
      "metadata": {
        "id": "qd-lvbA0nYsO"
      }
    },
    {
      "cell_type": "markdown",
      "source": [
        "For clearer visulaization, repeat the process above and get a 2D figure."
      ],
      "metadata": {
        "id": "5-bVjXBfnYsP"
      }
    },
    {
      "cell_type": "code",
      "source": [
        "from sklearn.decomposition import PCA\n",
        "pca = PCA(n_components=2)\n",
        "principalComponents = pca.fit_transform(X)"
      ],
      "metadata": {
        "jupyter": {
          "outputs_hidden": false
        },
        "id": "1rL326DMnYsP"
      },
      "execution_count": 27,
      "outputs": []
    },
    {
      "cell_type": "markdown",
      "source": [
        "Before clustering, we use elbow method again."
      ],
      "metadata": {
        "id": "sRSGTTK_nYsP"
      }
    },
    {
      "cell_type": "code",
      "source": [
        "Kn2=[]\n",
        "distortions2=[]\n",
        "for i in range(2,8):\n",
        "    Kn2.append(i)\n",
        "    distortions2.append(distortion(principalComponents,i))\n",
        "plt.plot(Kn2,distortions2,ls='--',marker='o')\n",
        "plt.xlabel('K')\n",
        "plt.ylabel('J')\n",
        "plt.title('J vs K')"
      ],
      "metadata": {
        "jupyter": {
          "outputs_hidden": false
        },
        "id": "WSz27m1CnYsP",
        "outputId": "b394f890-ace8-498d-d9cb-fa6e1686ac0d",
        "colab": {
          "base_uri": "https://localhost:8080/",
          "height": 313
        }
      },
      "execution_count": 28,
      "outputs": [
        {
          "output_type": "execute_result",
          "data": {
            "text/plain": [
              "Text(0.5, 1.0, 'J vs K')"
            ]
          },
          "metadata": {},
          "execution_count": 28
        },
        {
          "output_type": "display_data",
          "data": {
            "text/plain": [
              "<Figure size 432x288 with 1 Axes>"
            ],
            "image/png": "[encoded data removed]"
          },
          "metadata": {
            "needs_background": "light"
          }
        }
      ]
    },
    {
      "cell_type": "markdown",
      "source": [
        "Take K=4 again, and visualize the cluster."
      ],
      "metadata": {
        "id": "pJPRbCVAnYsP"
      }
    },
    {
      "cell_type": "code",
      "source": [
        "centers, labels = find_clusters(principalComponents, 4)\n",
        "print(centers)\n",
        "\n",
        "x =principalComponents[ : ,0]\n",
        "y =principalComponents[ : ,1]\n",
        "plt.scatter(x, y, c= labels,s=5, alpha=0.3)\n",
        "plt.scatter(centers[:,0], centers[:,1],c='red', s=70, alpha=1)\n",
        "plt.xlabel('principal component 1')\n",
        "plt.ylabel('principal component 2')\n",
        "plt.title('2D 4 Clusters')\n",
        "\n",
        "plt.show()"
      ],
      "metadata": {
        "jupyter": {
          "outputs_hidden": false
        },
        "id": "iFiHBGe7nYsQ",
        "outputId": "4b99897a-989c-4e94-de77-f844563e8717",
        "colab": {
          "base_uri": "https://localhost:8080/",
          "height": 366
        }
      },
      "execution_count": 29,
      "outputs": [
        {
          "output_type": "stream",
          "name": "stdout",
          "text": [
            "[[ 1.67842921  4.61382434]\n",
            " [11.30811173 -1.90821343]\n",
            " [-0.57825821 -0.13979549]\n",
            " [ 2.53168436 -1.09561241]]\n"
          ]
        },
        {
          "output_type": "display_data",
          "data": {
            "text/plain": [
              "<Figure size 432x288 with 1 Axes>"
            ],
            "image/png": "[encoded data removed]"
          },
          "metadata": {
            "needs_background": "light"
          }
        }
      ]
    },
    {
      "cell_type": "markdown",
      "source": [
        "Now appears the clearly classified clusters."
      ],
      "metadata": {
        "id": "siMNksJdnYsQ"
      }
    }
  ]
}