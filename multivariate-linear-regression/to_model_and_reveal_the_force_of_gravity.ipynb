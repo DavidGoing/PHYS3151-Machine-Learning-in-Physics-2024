{
  "nbformat": 4,
  "nbformat_minor": 0,
  "metadata": {
    "colab": {
      "name": "Regression on the law of gravity.ipynb",
      "provenance": [],
      "include_colab_link": true
    },
    "kernelspec": {
      "name": "python3",
      "display_name": "Python 3"
    },
    "language_info": {
      "name": "python"
    }
  },
  "cells": [
    {
      "cell_type": "markdown",
      "metadata": {
        "id": "view-in-github",
        "colab_type": "text"
      },
      "source": [
        "<a href=\"https://colab.research.google.com/github/LeoisWTT/PHYS3151-Machine-Learning-in-Physics-2023/blob/main/multivariate-linear-regression/to_model_and_reveal_the_force_of_gravity.ipynb\" target=\"_parent\"><img src=\"https://colab.research.google.com/assets/colab-badge.svg\" alt=\"Open In Colab\"/></a>"
      ]
    },
    {
      "cell_type": "markdown",
      "source": [
        "# Regression on the law of gravity"
      ],
      "metadata": {
        "id": "aqWz9kqbl9YX"
      }
    },
    {
      "cell_type": "markdown",
      "source": [
        "We will take a look at a simple example: the force of gravity on a falling object. The formula for the location of a falling object is:\n",
        "\n",
        "\\begin{eqnarray}\n",
        "y=X_{0}+V_{0}t-\\frac{1}{2}gt^{2}\n",
        "\\end{eqnarray}\n",
        "\n",
        "where $X_{0}$ is the initial location of the object, i.e. its initial height.\n",
        "$V_{0}$ is the initial velocity (or speed) of the object when it is at this initial position. $t$ is the time after the object was dropped. $g$ is the force of gravity, which is an acceleration of approximately 9.8 $m/s^{2}$. This is actually a constant not a variable like all of the others (unless we are dropping an object on different planets). It is negative because the force of gravity is downward, from a positive location value toward zero."
      ],
      "metadata": {
        "id": "nXL58ogzmONQ"
      }
    },
    {
      "cell_type": "markdown",
      "source": [
        "![Picture 1.png](data:image/png;base64,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)"
      ],
      "metadata": {
        "id": "konCl1ZYwWK9"
      }
    },
    {
      "cell_type": "markdown",
      "source": [
        "First, we will create a Python function to calculate the location of a falling object"
      ],
      "metadata": {
        "id": "jo98J0Dro2yc"
      }
    },
    {
      "cell_type": "code",
      "source": [
        "def location(x_0, v_0, t):\n",
        "    return x_0 + v_0*t - (9.8/2)*t**2"
      ],
      "metadata": {
        "id": "qWUscPHgo6Yq"
      },
      "execution_count": null,
      "outputs": []
    },
    {
      "cell_type": "markdown",
      "source": [
        "Next, we use this function to create a dataset and save it in a CSV file"
      ],
      "metadata": {
        "id": "B4tnqItmpCii"
      }
    },
    {
      "cell_type": "code",
      "source": [
        "import csv\n",
        "import random\n",
        "import math\n",
        "random.seed\n",
        "with open('gravity_location_data.csv', mode='w') as gravity_file:\n",
        "    gravity_writer = csv.writer(gravity_file, delimiter=',', quotechar='\"', quoting=csv.QUOTE_MINIMAL)\n",
        "    gravity_writer.writerow(['initial_position', 'initial_velocity', 'mass', 'time', 'location'])\n",
        "    for i in range (0, 1000):\n",
        "        initial_position = random.uniform(0,1)\n",
        "        initial_velocity = random.uniform(0,1)\n",
        "        mass = random.uniform(0,1)\n",
        "        time = random.uniform(0,1)\n",
        "        gravity_writer.writerow([initial_position, initial_velocity, mass, time, location(initial_position, initial_velocity, time)])"
      ],
      "metadata": {
        "id": "nMhKhvw3pHpY"
      },
      "execution_count": null,
      "outputs": []
    },
    {
      "cell_type": "markdown",
      "source": [
        "What we are doing here is creating 1,000 examples, using randomized values for all of our variables, then calculating the location at a certain (randomly selected) time."
      ],
      "metadata": {
        "id": "TmFDIoOgpOLH"
      }
    },
    {
      "cell_type": "code",
      "source": [
        "import numpy as np\n",
        "import matplotlib.pyplot as plt\n",
        "import pandas as pd\n",
        "df = pd.read_csv('/content/gravity_location_data.csv')\n",
        "print(df)"
      ],
      "metadata": {
        "id": "Hx52Kebbp7Wc",
        "outputId": "22cd67c0-770f-4c9e-dc8c-f8b2b9974d19",
        "colab": {
          "base_uri": "https://localhost:8080/"
        }
      },
      "execution_count": null,
      "outputs": [
        {
          "output_type": "stream",
          "name": "stdout",
          "text": [
            "     initial_position  initial_velocity      mass      time  location\n",
            "0            0.880333          0.545067  0.514279  0.805165 -1.857421\n",
            "1            0.035057          0.720747  0.106014  0.014722  0.044606\n",
            "2            0.789572          0.401641  0.930306  0.267736  0.545860\n",
            "3            0.032082          0.422938  0.504473  0.878918 -3.381428\n",
            "4            0.661146          0.375767  0.736219  0.143251  0.614423\n",
            "..                ...               ...       ...       ...       ...\n",
            "995          0.698550          0.419046  0.610587  0.211816  0.567468\n",
            "996          0.563509          0.954920  0.416775  0.745713 -1.449224\n",
            "997          0.171708          0.779862  0.950078  0.878669 -2.926143\n",
            "998          0.410612          0.632892  0.624910  0.216599  0.317811\n",
            "999          0.775286          0.944589  0.558547  0.898449 -2.331383\n",
            "\n",
            "[1000 rows x 5 columns]\n"
          ]
        }
      ]
    },
    {
      "cell_type": "code",
      "source": [
        "df['initial_velocity_time']=df['initial_velocity']*df['time']\n",
        "df['time^2']=df['time']*df['time']\n",
        "print(df)"
      ],
      "metadata": {
        "id": "G9Q75xxHwtqY",
        "outputId": "65ee61b2-69b8-4c7d-8671-8e3e1549b550",
        "colab": {
          "base_uri": "https://localhost:8080/"
        }
      },
      "execution_count": null,
      "outputs": [
        {
          "output_type": "stream",
          "name": "stdout",
          "text": [
            "     initial_position  initial_velocity      mass      time  location  \\\n",
            "0            0.880333          0.545067  0.514279  0.805165 -1.857421   \n",
            "1            0.035057          0.720747  0.106014  0.014722  0.044606   \n",
            "2            0.789572          0.401641  0.930306  0.267736  0.545860   \n",
            "3            0.032082          0.422938  0.504473  0.878918 -3.381428   \n",
            "4            0.661146          0.375767  0.736219  0.143251  0.614423   \n",
            "..                ...               ...       ...       ...       ...   \n",
            "995          0.698550          0.419046  0.610587  0.211816  0.567468   \n",
            "996          0.563509          0.954920  0.416775  0.745713 -1.449224   \n",
            "997          0.171708          0.779862  0.950078  0.878669 -2.926143   \n",
            "998          0.410612          0.632892  0.624910  0.216599  0.317811   \n",
            "999          0.775286          0.944589  0.558547  0.898449 -2.331383   \n",
            "\n",
            "     initial_velocity_time    time^2  \n",
            "0                 0.438869  0.648290  \n",
            "1                 0.010611  0.000217  \n",
            "2                 0.107534  0.071683  \n",
            "3                 0.371728  0.772498  \n",
            "4                 0.053829  0.020521  \n",
            "..                     ...       ...  \n",
            "995               0.088761  0.044866  \n",
            "996               0.712096  0.556088  \n",
            "997               0.685241  0.772060  \n",
            "998               0.137084  0.046915  \n",
            "999               0.848665  0.807211  \n",
            "\n",
            "[1000 rows x 7 columns]\n"
          ]
        }
      ]
    },
    {
      "cell_type": "markdown",
      "source": [
        "Next, we scale the data"
      ],
      "metadata": {
        "id": "9OUYH7aIyIJL"
      }
    },
    {
      "cell_type": "code",
      "source": [
        "df = df.to_numpy()\n",
        "x = [df[:,0],df[:,5],df[:,6]]\n",
        "y = [df[:,4]]\n",
        "x = np.array(x)\n",
        "#print(x)\n",
        "x = x.T\n",
        "y = np.array(y)\n",
        "y = y.T\n",
        "#print(y)"
      ],
      "metadata": {
        "id": "6NRbgEH3wGcW"
      },
      "execution_count": null,
      "outputs": []
    },
    {
      "cell_type": "markdown",
      "source": [
        "Now, we define functions for cost funciton and gradient descent."
      ],
      "metadata": {
        "id": "Prd7EH5T0XqZ"
      }
    },
    {
      "cell_type": "code",
      "source": [
        "def  computeCost(theta,X,y):\n",
        "    m = float(len(y))\n",
        "    \n",
        "    predictions = X.dot(theta)\n",
        "    cost = (1/(2*m)) * np.sum(np.square(predictions-y))\n",
        "    return cost"
      ],
      "metadata": {
        "id": "mU_Rqzl00UU0"
      },
      "execution_count": null,
      "outputs": []
    },
    {
      "cell_type": "code",
      "source": [
        "def gradient_descent(X,y,theta,alpha,iterations):\n",
        "    m = float(len(y))\n",
        "    cost_history = np.zeros(iterations)\n",
        "    theta_history = np.zeros((iterations,4))\n",
        "    for it in range(iterations):\n",
        "        \n",
        "        prediction = np.dot(X,theta)\n",
        "        theta = theta -(1/m)*alpha*( X.T.dot((prediction - y)))\n",
        "        theta_history[it,:] = theta.T\n",
        "        cost_history[it]  = computeCost(theta,X,y)\n",
        "        \n",
        "    return theta, cost_history, theta_history"
      ],
      "metadata": {
        "id": "UHUgK7hy0grw"
      },
      "execution_count": null,
      "outputs": []
    },
    {
      "cell_type": "code",
      "source": [
        "alpha =0.1\n",
        "n_iter = 5000\n",
        "\n",
        "theta = np.random.randn(4,1)\n",
        "print(theta)\n",
        "x_b = np.c_[np.ones((len(x),1)),x]\n",
        "#print(x_b)\n",
        "print(computeCost(theta,x_b,y))\n",
        "\n",
        "theta,cost_history,theta_history = gradient_descent(x_b,y,theta,alpha,n_iter)\n",
        "\n",
        "print('Theta0:          {:0.3f},\\nTheta1:          {:0.3f},\\nTheta2:          {:0.3f},\\nTheta3:          {:0.3f}'.format(theta[0][0],theta[1][0],theta[2][0],theta[3][0]))\n",
        "print('Final cost/MSE:  {:0.3f}'.format(cost_history[-1]))\n",
        "\n",
        "plt.plot(cost_history)\n",
        "plt.xlabel(\"Iteration\")\n",
        "plt.ylabel(\"$J(\\Theta)$\")\n",
        "plt.title(\"Cost function using Gradient Descent\")"
      ],
      "metadata": {
        "id": "mIl42aua0m-6",
        "outputId": "7f196bf5-df5b-465c-ae54-e81e12b99f71",
        "colab": {
          "base_uri": "https://localhost:8080/",
          "height": 491
        }
      },
      "execution_count": null,
      "outputs": [
        {
          "output_type": "stream",
          "name": "stdout",
          "text": [
            "[[0.6924073 ]\n",
            " [0.4126623 ]\n",
            " [0.20633232]\n",
            " [1.05272763]]\n",
            "3.8041792427865095\n",
            "Theta0:          0.000,\n",
            "Theta1:          1.000,\n",
            "Theta2:          1.000,\n",
            "Theta3:          -4.900\n",
            "Final cost/MSE:  0.000\n"
          ]
        },
        {
          "output_type": "execute_result",
          "data": {
            "text/plain": [
              "Text(0.5, 1.0, 'Cost function using Gradient Descent')"
            ]
          },
          "metadata": {},
          "execution_count": 18
        },
        {
          "output_type": "display_data",
          "data": {
            "text/plain": [
              "<Figure size 432x288 with 1 Axes>"
            ],
            "image/png": "[encoded data removed]"
          },
          "metadata": {
            "needs_background": "light"
          }
        }
      ]
    },
    {
      "cell_type": "markdown",
      "source": [
        "This gives us coefficients correspond to each of the three features from above. The first value from our array ( 1.00000000e+00, or 1) is the coefficient on “initial_position”. And in fact, in our original equation, we have the initial velocity ($X_{0}$) with a coefficient of one. \n",
        "\n",
        "The second in our list is also a coefficient of 1, which corresponds to ‘initial_velocity time,’ or initial velocity multiplied by time. Again, we have this factor in our original equation, which appears as $V_{0}t$. \n",
        "\n",
        "Finally, the very last value is -4.9, which is the coefficient corresponding to ‘time ^ 2.’ Note that this also appears in our original equation as $\\frac{1}{2}gt^{2}$. But we said earlier that $g$ is approximately 9.8, and $-\\frac{1}{2} * 9.8 = -4.9$. So this also corresponds with our original equation."
      ],
      "metadata": {
        "id": "VkqwE4eXsBLE"
      }
    },
    {
      "cell_type": "code",
      "source": [
        "for i in range (0,5):\n",
        "    j = random.randint(0,1000)\n",
        "    x_0 = df[j,0]\n",
        "    v_0 = df[j,1]\n",
        "    t =df[j,3]\n",
        "    time =  np.linspace(0,1,100)\n",
        "    y_grad = x_0+v_0*time-4.9*time**2\n",
        "    plt.scatter(t, df[j,4])   #plot data points\n",
        "    plt.plot(time,y_grad)     #plot fitting curve\n",
        "\n",
        "plt.title(' Location of a falling object vs Time', fontsize=14)\n",
        "plt.xlabel('Time', fontsize=14)\n",
        "plt.ylabel('Location', fontsize=14)\n",
        "plt.legend(loc='lower left')\n",
        "plt.grid(True)\n",
        "plt.xlim(0,1)\n",
        "plt.show()"
      ],
      "metadata": {
        "id": "YnyWJCBg2t6c",
        "outputId": "2b41c557-5ebe-4776-e588-ea40e74d06c6",
        "colab": {
          "base_uri": "https://localhost:8080/",
          "height": 318
        }
      },
      "execution_count": null,
      "outputs": [
        {
          "output_type": "stream",
          "name": "stderr",
          "text": [
            "WARNING:matplotlib.legend:No handles with labels found to put in legend.\n"
          ]
        },
        {
          "output_type": "display_data",
          "data": {
            "text/plain": [
              "<Figure size 432x288 with 1 Axes>"
            ],
            "image/png": "[encoded data removed]"
          },
          "metadata": {
            "needs_background": "light"
          }
        }
      ]
    },
    {
      "cell_type": "markdown",
      "source": [
        "The dots in the above figure is randomly selected “time” data in the example file. And the curves are ploted with coeffcients we obtained using gradient descent."
      ],
      "metadata": {
        "id": "9oCc946wQEuL"
      }
    }
  ]
}