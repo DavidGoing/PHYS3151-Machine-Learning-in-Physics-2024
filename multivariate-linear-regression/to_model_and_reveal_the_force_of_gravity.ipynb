{
  "nbformat": 4,
  "nbformat_minor": 0,
  "metadata": {
    "colab": {
      "name": "Regression on the law of gravity.ipynb",
      "provenance": [],
      "include_colab_link": true
    },
    "kernelspec": {
      "name": "python3",
      "display_name": "Python 3"
    },
    "language_info": {
      "name": "python"
    }
  },
  "cells": [
    {
      "cell_type": "markdown",
      "metadata": {
        "id": "view-in-github",
        "colab_type": "text"
      },
      "source": [
        "<a href=\"https://colab.research.google.com/github/LeoisWTT/PHYS3151-Machine-Learning-in-Physics-2023/blob/main/multivariate-linear-regression/to_model_and_reveal_the_force_of_gravity.ipynb\" target=\"_parent\"><img src=\"https://colab.research.google.com/assets/colab-badge.svg\" alt=\"Open In Colab\"/></a>"
      ]
    },
    {
      "cell_type": "markdown",
      "source": [
        "# Regression on the law of gravity"
      ],
      "metadata": {
        "id": "aqWz9kqbl9YX"
      }
    },
    {
      "cell_type": "markdown",
      "source": [
        "We will take a look at a simple example: the force of gravity on a falling object. The formula for the location of a falling object is:\n",
        "\n",
        "\\begin{eqnarray}\n",
        "y=X_{0}+V_{0}t-\\frac{1}{2}gt^{2}\n",
        "\\end{eqnarray}\n",
        "\n",
        "where $X_{0}$ is the initial location of the object, i.e. its initial height.\n",
        "$V_{0}$ is the initial velocity (or speed) of the object when it is at this initial position. $t$ is the time after the object was dropped. $g$ is the force of gravity, which is an acceleration of approximately 9.8 $m/s^{2}$. This is actually a constant not a variable like all of the others (unless we are dropping an object on different planets). It is negative because the force of gravity is downward, from a positive location value toward zero."
      ],
      "metadata": {
        "id": "nXL58ogzmONQ"
      }
    },
    {
      "cell_type": "markdown",
      "source": [
        "![Picture 1.png](data:image/png;base64,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)"
      ],
      "metadata": {
        "id": "jyT0MR-tvHRz"
      }
    },
    {
      "cell_type": "markdown",
      "source": [
        "First, we will create a Python function to calculate the location of a falling object"
      ],
      "metadata": {
        "id": "jo98J0Dro2yc"
      }
    },
    {
      "cell_type": "code",
      "source": [
        "def location(x_0, v_0, t):\n",
        "    return x_0 + v_0*t - (9.8/2)*t**2"
      ],
      "metadata": {
        "id": "qWUscPHgo6Yq"
      },
      "execution_count": 1,
      "outputs": []
    },
    {
      "cell_type": "markdown",
      "source": [
        "Next, we use this function to create a dataset and save it in a CSV file"
      ],
      "metadata": {
        "id": "B4tnqItmpCii"
      }
    },
    {
      "cell_type": "code",
      "source": [
        "import csv\n",
        "import random\n",
        "import math\n",
        "random.seed\n",
        "with open('gravity_location_data.csv', mode='w') as gravity_file:\n",
        "    gravity_writer = csv.writer(gravity_file, delimiter=',', quotechar='\"', quoting=csv.QUOTE_MINIMAL)\n",
        "    gravity_writer.writerow(['initial_position', 'initial_velocity', 'mass', 'time', 'location'])\n",
        "    for i in range (0, 1000):\n",
        "        initial_position = random.uniform(0,1)\n",
        "        initial_velocity = random.uniform(0,1)\n",
        "        mass = random.uniform(0,1)\n",
        "        time = random.uniform(0,1)\n",
        "        gravity_writer.writerow([initial_position, initial_velocity, mass, time, location(initial_position, initial_velocity, time)])"
      ],
      "metadata": {
        "id": "nMhKhvw3pHpY"
      },
      "execution_count": 8,
      "outputs": []
    },
    {
      "cell_type": "markdown",
      "source": [
        "What we are doing here is creating 1,000 examples, using randomized values for all of our variables, then calculating the location at a certain (randomly selected) time."
      ],
      "metadata": {
        "id": "TmFDIoOgpOLH"
      }
    },
    {
      "cell_type": "code",
      "source": [
        "import numpy as np\n",
        "import matplotlib.pyplot as plt\n",
        "import pandas as pd\n",
        "df = pd.read_csv('/content/gravity_location_data.csv')\n",
        "print(df)"
      ],
      "metadata": {
        "id": "Hx52Kebbp7Wc",
        "outputId": "22cd67c0-770f-4c9e-dc8c-f8b2b9974d19",
        "colab": {
          "base_uri": "https://localhost:8080/"
        }
      },
      "execution_count": 13,
      "outputs": [
        {
          "output_type": "stream",
          "name": "stdout",
          "text": [
            "     initial_position  initial_velocity      mass      time  location\n",
            "0            0.880333          0.545067  0.514279  0.805165 -1.857421\n",
            "1            0.035057          0.720747  0.106014  0.014722  0.044606\n",
            "2            0.789572          0.401641  0.930306  0.267736  0.545860\n",
            "3            0.032082          0.422938  0.504473  0.878918 -3.381428\n",
            "4            0.661146          0.375767  0.736219  0.143251  0.614423\n",
            "..                ...               ...       ...       ...       ...\n",
            "995          0.698550          0.419046  0.610587  0.211816  0.567468\n",
            "996          0.563509          0.954920  0.416775  0.745713 -1.449224\n",
            "997          0.171708          0.779862  0.950078  0.878669 -2.926143\n",
            "998          0.410612          0.632892  0.624910  0.216599  0.317811\n",
            "999          0.775286          0.944589  0.558547  0.898449 -2.331383\n",
            "\n",
            "[1000 rows x 5 columns]\n"
          ]
        }
      ]
    },
    {
      "cell_type": "code",
      "source": [
        "df['initial_velocity_time']=df['initial_velocity']*df['time']\n",
        "df['time^2']=df['time']*df['time']\n",
        "print(df)"
      ],
      "metadata": {
        "id": "G9Q75xxHwtqY",
        "outputId": "65ee61b2-69b8-4c7d-8671-8e3e1549b550",
        "colab": {
          "base_uri": "https://localhost:8080/"
        }
      },
      "execution_count": 14,
      "outputs": [
        {
          "output_type": "stream",
          "name": "stdout",
          "text": [
            "     initial_position  initial_velocity      mass      time  location  \\\n",
            "0            0.880333          0.545067  0.514279  0.805165 -1.857421   \n",
            "1            0.035057          0.720747  0.106014  0.014722  0.044606   \n",
            "2            0.789572          0.401641  0.930306  0.267736  0.545860   \n",
            "3            0.032082          0.422938  0.504473  0.878918 -3.381428   \n",
            "4            0.661146          0.375767  0.736219  0.143251  0.614423   \n",
            "..                ...               ...       ...       ...       ...   \n",
            "995          0.698550          0.419046  0.610587  0.211816  0.567468   \n",
            "996          0.563509          0.954920  0.416775  0.745713 -1.449224   \n",
            "997          0.171708          0.779862  0.950078  0.878669 -2.926143   \n",
            "998          0.410612          0.632892  0.624910  0.216599  0.317811   \n",
            "999          0.775286          0.944589  0.558547  0.898449 -2.331383   \n",
            "\n",
            "     initial_velocity_time    time^2  \n",
            "0                 0.438869  0.648290  \n",
            "1                 0.010611  0.000217  \n",
            "2                 0.107534  0.071683  \n",
            "3                 0.371728  0.772498  \n",
            "4                 0.053829  0.020521  \n",
            "..                     ...       ...  \n",
            "995               0.088761  0.044866  \n",
            "996               0.712096  0.556088  \n",
            "997               0.685241  0.772060  \n",
            "998               0.137084  0.046915  \n",
            "999               0.848665  0.807211  \n",
            "\n",
            "[1000 rows x 7 columns]\n"
          ]
        }
      ]
    },
    {
      "cell_type": "markdown",
      "source": [
        "Next, we scale the data"
      ],
      "metadata": {
        "id": "9OUYH7aIyIJL"
      }
    },
    {
      "cell_type": "code",
      "source": [
        "df = df.to_numpy()\n",
        "x = [df[:,0],df[:,5],df[:,6]]\n",
        "y = [df[:,4]]\n",
        "x = np.array(x)\n",
        "#print(x)\n",
        "x = x.T\n",
        "y = np.array(y)\n",
        "y = y.T\n",
        "#print(y)"
      ],
      "metadata": {
        "id": "6NRbgEH3wGcW"
      },
      "execution_count": 15,
      "outputs": []
    },
    {
      "cell_type": "markdown",
      "source": [
        "Now, we define functions for cost funciton and gradient descent."
      ],
      "metadata": {
        "id": "Prd7EH5T0XqZ"
      }
    },
    {
      "cell_type": "code",
      "source": [
        "def  computeCost(theta,X,y):\n",
        "    m = float(len(y))\n",
        "    \n",
        "    predictions = X.dot(theta)\n",
        "    cost = (1/(2*m)) * np.sum(np.square(predictions-y))\n",
        "    return cost"
      ],
      "metadata": {
        "id": "mU_Rqzl00UU0"
      },
      "execution_count": 16,
      "outputs": []
    },
    {
      "cell_type": "code",
      "source": [
        "def gradient_descent(X,y,theta,alpha,iterations):\n",
        "    m = float(len(y))\n",
        "    cost_history = np.zeros(iterations)\n",
        "    theta_history = np.zeros((iterations,4))\n",
        "    for it in range(iterations):\n",
        "        \n",
        "        prediction = np.dot(X,theta)\n",
        "        theta = theta -(1/m)*alpha*( X.T.dot((prediction - y)))\n",
        "        theta_history[it,:] = theta.T\n",
        "        cost_history[it]  = computeCost(theta,X,y)\n",
        "        \n",
        "    return theta, cost_history, theta_history"
      ],
      "metadata": {
        "id": "UHUgK7hy0grw"
      },
      "execution_count": 17,
      "outputs": []
    },
    {
      "cell_type": "code",
      "source": [
        "alpha =0.1\n",
        "n_iter = 5000\n",
        "\n",
        "theta = np.random.randn(4,1)\n",
        "print(theta)\n",
        "x_b = np.c_[np.ones((len(x),1)),x]\n",
        "#print(x_b)\n",
        "print(computeCost(theta,x_b,y))\n",
        "\n",
        "theta,cost_history,theta_history = gradient_descent(x_b,y,theta,alpha,n_iter)\n",
        "\n",
        "print('Theta0:          {:0.3f},\\nTheta1:          {:0.3f},\\nTheta2:          {:0.3f},\\nTheta3:          {:0.3f}'.format(theta[0][0],theta[1][0],theta[2][0],theta[3][0]))\n",
        "print('Final cost/MSE:  {:0.3f}'.format(cost_history[-1]))\n",
        "\n",
        "plt.plot(cost_history)\n",
        "plt.xlabel(\"Iteration\")\n",
        "plt.ylabel(\"$J(\\Theta)$\")\n",
        "plt.title(\"Cost function using Gradient Descent\")"
      ],
      "metadata": {
        "id": "mIl42aua0m-6",
        "outputId": "7f196bf5-df5b-465c-ae54-e81e12b99f71",
        "colab": {
          "base_uri": "https://localhost:8080/",
          "height": 491
        }
      },
      "execution_count": 18,
      "outputs": [
        {
          "output_type": "stream",
          "name": "stdout",
          "text": [
            "[[0.6924073 ]\n",
            " [0.4126623 ]\n",
            " [0.20633232]\n",
            " [1.05272763]]\n",
            "3.8041792427865095\n",
            "Theta0:          0.000,\n",
            "Theta1:          1.000,\n",
            "Theta2:          1.000,\n",
            "Theta3:          -4.900\n",
            "Final cost/MSE:  0.000\n"
          ]
        },
        {
          "output_type": "execute_result",
          "data": {
            "text/plain": [
              "Text(0.5, 1.0, 'Cost function using Gradient Descent')"
            ]
          },
          "metadata": {},
          "execution_count": 18
        },
        {
          "output_type": "display_data",
          "data": {
            "text/plain": [
              "<Figure size 432x288 with 1 Axes>"
            ],
            "image/png": "[encoded data removed]"
          },
          "metadata": {
            "needs_background": "light"
          }
        }
      ]
    },
    {
      "cell_type": "markdown",
      "source": [
        "This gives us coefficients correspond to each of the three features from above. The first value from our array ( 1.00000000e+00, or 1) is the coefficient on “initial_position”. And in fact, in our original equation, we have the initial velocity ($X_{0}$) with a coefficient of one. \n",
        "\n",
        "The second in our list is also a coefficient of 1, which corresponds to ‘initial_velocity time,’ or initial velocity multiplied by time. Again, we have this factor in our original equation, which appears as $V_{0}t$. \n",
        "\n",
        "Finally, the very last value is -4.9, which is the coefficient corresponding to ‘time ^ 2.’ Note that this also appears in our original equation as $\\frac{1}{2}gt^{2}$. But we said earlier that $g$ is approximately 9.8, and $-\\frac{1}{2} * 9.8 = -4.9$. So this also corresponds with our original equation."
      ],
      "metadata": {
        "id": "VkqwE4eXsBLE"
      }
    },
    {
      "cell_type": "code",
      "source": [
        "for i in range (0,5):\n",
        "    j = random.randint(0,1000)\n",
        "    x_0 = df[j,0]\n",
        "    v_0 = df[j,1]\n",
        "    t =df[j,3]\n",
        "    time =  np.linspace(0,1,100)\n",
        "    y_grad = x_0+v_0*time-4.9*time**2\n",
        "    plt.scatter(t, df[j,4])   #plot data points\n",
        "    plt.plot(time,y_grad)     #plot fitting curve\n",
        "\n",
        "plt.title(' Location of a falling object vs Time', fontsize=14)\n",
        "plt.xlabel('Time', fontsize=14)\n",
        "plt.ylabel('Location', fontsize=14)\n",
        "plt.legend(loc='lower left')\n",
        "plt.grid(True)\n",
        "plt.xlim(0,1)\n",
        "plt.show()"
      ],
      "metadata": {
        "id": "YnyWJCBg2t6c",
        "outputId": "2b41c557-5ebe-4776-e588-ea40e74d06c6",
        "colab": {
          "base_uri": "https://localhost:8080/",
          "height": 318
        }
      },
      "execution_count": 19,
      "outputs": [
        {
          "output_type": "stream",
          "name": "stderr",
          "text": [
            "WARNING:matplotlib.legend:No handles with labels found to put in legend.\n"
          ]
        },
        {
          "output_type": "display_data",
          "data": {
            "text/plain": [
              "<Figure size 432x288 with 1 Axes>"
            ],
            "image/png": "[encoded data removed]"
          },
          "metadata": {
            "needs_background": "light"
          }
        }
      ]
    },
    {
      "cell_type": "markdown",
      "source": [
        "The dots in the above figure is randomly selected “time” data in the example file. And the curves are ploted with coeffcients we obtained using gradient descent."
      ],
      "metadata": {
        "id": "9oCc946wQEuL"
      }
    }
  ]
}