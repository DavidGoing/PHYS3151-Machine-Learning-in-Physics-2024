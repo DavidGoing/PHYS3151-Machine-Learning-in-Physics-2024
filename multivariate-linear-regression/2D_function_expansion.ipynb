{
  "nbformat": 4,
  "nbformat_minor": 0,
  "metadata": {
    "colab": {
      "name": "2D_function_expansion.ipynb",
      "provenance": [],
      "include_colab_link": true
    },
    "kernelspec": {
      "name": "python3",
      "display_name": "Python 3"
    },
    "language_info": {
      "name": "python"
    }
  },
  "cells": [
    {
      "cell_type": "markdown",
      "metadata": {
        "id": "view-in-github",
        "colab_type": "text"
      },
      "source": [
        "<a href=\"https://colab.research.google.com/github/LeoisWTT/PHYS3151-Machine-Learning-in-Physics-2023/blob/main/multivariate-linear-regression/2D_function_expansion.ipynb\" target=\"_parent\"><img src=\"https://colab.research.google.com/assets/colab-badge.svg\" alt=\"Open In Colab\"/></a>"
      ]
    },
    {
      "cell_type": "markdown",
      "source": [
        "# Using polynomial regression to model and reveal the force of gravity"
      ],
      "metadata": {
        "id": "aqWz9kqbl9YX"
      }
    },
    {
      "cell_type": "code",
      "source": [
        "import numpy as np\n",
        "import matplotlib.pyplot as plt\n",
        "import pandas as pd\n",
        "import csv\n",
        "import random\n"
      ],
      "metadata": {
        "id": "12Ah1LjN3PkU"
      },
      "execution_count": 50,
      "outputs": []
    },
    {
      "cell_type": "code",
      "source": [
        "def test_func(x, y):\n",
        "    return np.cos(x**2+y**2)"
      ],
      "metadata": {
        "id": "qWUscPHgo6Yq"
      },
      "execution_count": 51,
      "outputs": []
    },
    {
      "cell_type": "code",
      "source": [
        "random.seed\n",
        "with open('test_func_data.csv', mode='w') as sample_file:\n",
        "    gravity_writer = csv.writer(sample_file, delimiter=',', quotechar='\"', quoting=csv.QUOTE_MINIMAL)\n",
        "    gravity_writer.writerow(['f(x,y)','x', 'y'])\n",
        "    for i in range (0, 5000):\n",
        "        x = random.uniform(-1,1)\n",
        "        y = random.uniform(-1,1)\n",
        "        gravity_writer.writerow([test_func(x, y), x, y])"
      ],
      "metadata": {
        "id": "dDgHkoqD3SG9"
      },
      "execution_count": 52,
      "outputs": []
    },
    {
      "cell_type": "code",
      "source": [],
      "metadata": {
        "id": "nMhKhvw3pHpY"
      },
      "execution_count": 52,
      "outputs": []
    },
    {
      "cell_type": "code",
      "source": [
        "df = pd.read_csv('/content/test_func_data.csv')\n",
        "print(df)"
      ],
      "metadata": {
        "id": "Hx52Kebbp7Wc",
        "outputId": "f96e7d9f-0798-4d7f-9c35-af5e6a1e6637",
        "colab": {
          "base_uri": "https://localhost:8080/"
        }
      },
      "execution_count": 53,
      "outputs": [
        {
          "output_type": "stream",
          "name": "stdout",
          "text": [
            "        f(x,y)         x         y\n",
            "0     0.953897 -0.108240 -0.541404\n",
            "1     0.992298  0.332926  0.115555\n",
            "2     0.459477 -0.930457  0.477117\n",
            "3     0.996590 -0.271986 -0.092893\n",
            "4     0.520304  0.794845 -0.625949\n",
            "...        ...       ...       ...\n",
            "4995  0.999974  0.056509 -0.063237\n",
            "4996  0.776998 -0.795703 -0.218564\n",
            "4997  0.294982 -0.773986 -0.819942\n",
            "4998  0.238464 -0.776246 -0.852910\n",
            "4999  0.151019  0.802652 -0.880311\n",
            "\n",
            "[5000 rows x 3 columns]\n"
          ]
        }
      ]
    },
    {
      "cell_type": "code",
      "source": [
        "df['x^2']=df['x']**2\n",
        "df['y^2']=df['y']**2\n",
        "df['x^3']=df['x']**3\n",
        "df['y^3']=df['y']**3\n",
        "print(df)"
      ],
      "metadata": {
        "id": "G9Q75xxHwtqY",
        "outputId": "6c5d937b-1296-49d7-c576-92a785a0a666",
        "colab": {
          "base_uri": "https://localhost:8080/"
        }
      },
      "execution_count": 54,
      "outputs": [
        {
          "output_type": "stream",
          "name": "stdout",
          "text": [
            "        f(x,y)         x         y       x^2       y^2       x^3       y^3\n",
            "0     0.953897 -0.108240 -0.541404  0.011716  0.293119 -0.001268 -0.158696\n",
            "1     0.992298  0.332926  0.115555  0.110840  0.013353  0.036901  0.001543\n",
            "2     0.459477 -0.930457  0.477117  0.865750  0.227640 -0.805543  0.108611\n",
            "3     0.996590 -0.271986 -0.092893  0.073977  0.008629 -0.020121 -0.000802\n",
            "4     0.520304  0.794845 -0.625949  0.631778  0.391812  0.502166 -0.245254\n",
            "...        ...       ...       ...       ...       ...       ...       ...\n",
            "4995  0.999974  0.056509 -0.063237  0.003193  0.003999  0.000180 -0.000253\n",
            "4996  0.776998 -0.795703 -0.218564  0.633143  0.047770 -0.503793 -0.010441\n",
            "4997  0.294982 -0.773986 -0.819942  0.599054  0.672306 -0.463659 -0.551252\n",
            "4998  0.238464 -0.776246 -0.852910  0.602558  0.727455 -0.467733 -0.620453\n",
            "4999  0.151019  0.802652 -0.880311  0.644250  0.774947  0.517109 -0.682194\n",
            "\n",
            "[5000 rows x 7 columns]\n"
          ]
        }
      ]
    },
    {
      "cell_type": "markdown",
      "source": [
        "Next, we scale the data"
      ],
      "metadata": {
        "id": "9OUYH7aIyIJL"
      }
    },
    {
      "cell_type": "code",
      "source": [
        "df_temp = df.to_numpy()\n",
        "x = df_temp[:,1:7]\n",
        "y = [df_temp[:,0]]\n",
        "x = np.array(x)\n",
        "print(x)\n",
        "y = np.array(y)\n",
        "y = y.T\n",
        "#print(y)"
      ],
      "metadata": {
        "id": "6NRbgEH3wGcW",
        "outputId": "feaf16b5-b38c-4c3e-8fd8-1fcd6228b680",
        "colab": {
          "base_uri": "https://localhost:8080/"
        }
      },
      "execution_count": 55,
      "outputs": [
        {
          "output_type": "stream",
          "name": "stdout",
          "text": [
            "[[-0.10824047 -0.54140446  0.011716    0.29311879 -0.00126815 -0.15869582]\n",
            " [ 0.3329261   0.11555479  0.11083979  0.01335291  0.03690146  0.00154299]\n",
            " [-0.93045686  0.47711659  0.86574998  0.22764024 -0.80554301  0.10861093]\n",
            " ...\n",
            " [-0.77398581 -0.81994242  0.59905403  0.67230556 -0.46365932 -0.55125185]\n",
            " [-0.77624602 -0.85290954  0.60255789  0.72745468 -0.46773317 -0.62045303]\n",
            " [ 0.80265213 -0.8803108   0.64425044  0.7749471   0.51710899 -0.6821943 ]]\n"
          ]
        }
      ]
    },
    {
      "cell_type": "code",
      "source": [
        "def  computeCost(theta,X,y):\n",
        "    m = float(len(y))\n",
        "    \n",
        "    predictions = X.dot(theta)\n",
        "    cost = (1/(2*m)) * np.sum(np.square(predictions-y))\n",
        "    return cost"
      ],
      "metadata": {
        "id": "mU_Rqzl00UU0"
      },
      "execution_count": 56,
      "outputs": []
    },
    {
      "cell_type": "code",
      "source": [
        "def gradient_descent(X,y,theta,alpha,iterations):\n",
        "    m = float(len(y))\n",
        "    N=np.size(X,1)\n",
        "    cost_history = np.zeros(iterations)\n",
        "    theta_history = np.zeros((iterations,N))\n",
        "    for it in range(iterations):\n",
        "        \n",
        "        prediction = np.dot(X,theta)\n",
        "        theta = theta -(1/m)*alpha*( X.T.dot((prediction - y)))\n",
        "        theta_history[it,:] = theta.T\n",
        "        cost_history[it]  = computeCost(theta,X,y)\n",
        "        \n",
        "    return theta, cost_history, theta_history"
      ],
      "metadata": {
        "id": "UHUgK7hy0grw"
      },
      "execution_count": 57,
      "outputs": []
    },
    {
      "cell_type": "code",
      "source": [
        "alpha =0.1\n",
        "n_iter = 20000\n",
        "N=np.size(x,1)\n",
        "theta = np.random.randn(N+1,1)\n",
        "#print(theta)\n",
        "x_b = np.c_[np.ones((len(x),1)),x]\n",
        "#print(x_b)\n",
        "print(computeCost(theta,x_b,y))\n",
        "\n",
        "theta,cost_history,theta_history = gradient_descent(x_b,y,theta,alpha,n_iter)\n",
        "\n",
        "print(theta)\n",
        "print('Final cost/MSE:  {:0.3f}'.format(cost_history[-1]))\n",
        "\n",
        "plt.plot(cost_history)\n",
        "plt.yscale('log')\n",
        "plt.xlabel(\"Iteration\")\n",
        "plt.ylabel(\"$J(\\Theta)$\")\n",
        "plt.title(\"Cost function using Gradient Descent\")"
      ],
      "metadata": {
        "id": "mIl42aua0m-6",
        "outputId": "2cd162a7-05e4-4543-ff64-4771f576a188",
        "colab": {
          "base_uri": "https://localhost:8080/",
          "height": 474
        }
      },
      "execution_count": 58,
      "outputs": [
        {
          "output_type": "stream",
          "name": "stdout",
          "text": [
            "1.569539563309639\n",
            "[[ 1.15081126]\n",
            " [-0.00210463]\n",
            " [-0.00389215]\n",
            " [-0.64199606]\n",
            " [-0.64741395]\n",
            " [ 0.00321737]\n",
            " [ 0.00644631]]\n",
            "Final cost/MSE:  0.002\n"
          ]
        },
        {
          "output_type": "execute_result",
          "data": {
            "text/plain": [
              "Text(0.5, 1.0, 'Cost function using Gradient Descent')"
            ]
          },
          "metadata": {},
          "execution_count": 58
        },
        {
          "output_type": "display_data",
          "data": {
            "text/plain": [
              "<Figure size 432x288 with 1 Axes>"
            ],
            "image/png": "[encoded data removed]"
          },
          "metadata": {
            "needs_background": "light"
          }
        }
      ]
    },
    {
      "cell_type": "code",
      "source": [
        "df = pd.read_csv('/content/test_func_data.csv')\n",
        "#print(df)"
      ],
      "metadata": {
        "id": "Oizzg3vVJPK7"
      },
      "execution_count": 59,
      "outputs": []
    },
    {
      "cell_type": "code",
      "source": [
        "df['x^2']=df['x']**2\n",
        "df['y^2']=df['y']**2\n",
        "df['x^4']=df['x']**4\n",
        "df['y^4']=df['y']**4\n",
        "df['x^2*y^2']=df['x']**2*df['y']**2\n",
        "print(df)"
      ],
      "metadata": {
        "outputId": "35284332-7e91-4d3a-a023-a5cc54167c4c",
        "colab": {
          "base_uri": "https://localhost:8080/"
        },
        "id": "ForfuGjTJPLJ"
      },
      "execution_count": 60,
      "outputs": [
        {
          "output_type": "stream",
          "name": "stdout",
          "text": [
            "        f(x,y)         x         y       x^2       y^2       x^4       y^4  \\\n",
            "0     0.953897 -0.108240 -0.541404  0.011716  0.293119  0.000137  0.085919   \n",
            "1     0.992298  0.332926  0.115555  0.110840  0.013353  0.012285  0.000178   \n",
            "2     0.459477 -0.930457  0.477117  0.865750  0.227640  0.749523  0.051820   \n",
            "3     0.996590 -0.271986 -0.092893  0.073977  0.008629  0.005473  0.000074   \n",
            "4     0.520304  0.794845 -0.625949  0.631778  0.391812  0.399144  0.153516   \n",
            "...        ...       ...       ...       ...       ...       ...       ...   \n",
            "4995  0.999974  0.056509 -0.063237  0.003193  0.003999  0.000010  0.000016   \n",
            "4996  0.776998 -0.795703 -0.218564  0.633143  0.047770  0.400870  0.002282   \n",
            "4997  0.294982 -0.773986 -0.819942  0.599054  0.672306  0.358866  0.451995   \n",
            "4998  0.238464 -0.776246 -0.852910  0.602558  0.727455  0.363076  0.529190   \n",
            "4999  0.151019  0.802652 -0.880311  0.644250  0.774947  0.415059  0.600543   \n",
            "\n",
            "       x^2*y^2  \n",
            "0     0.003434  \n",
            "1     0.001480  \n",
            "2     0.197080  \n",
            "3     0.000638  \n",
            "4     0.247538  \n",
            "...        ...  \n",
            "4995  0.000013  \n",
            "4996  0.030245  \n",
            "4997  0.402747  \n",
            "4998  0.438334  \n",
            "4999  0.499260  \n",
            "\n",
            "[5000 rows x 8 columns]\n"
          ]
        }
      ]
    },
    {
      "cell_type": "code",
      "source": [
        "df_temp = df.to_numpy()\n",
        "x = df_temp[:,3:8]\n",
        "y = [df_temp[:,0]]\n",
        "x = np.array(x)\n",
        "#print(x)\n",
        "y = np.array(y)\n",
        "y = y.T\n",
        "#print(y)"
      ],
      "metadata": {
        "id": "uYWk-zzIJPLK"
      },
      "execution_count": 61,
      "outputs": []
    },
    {
      "cell_type": "code",
      "source": [
        "alpha =0.1\n",
        "n_iter = 20000\n",
        "N=np.size(x,1)\n",
        "theta = np.random.randn(N+1,1)\n",
        "#print(theta)\n",
        "x_b = np.c_[np.ones((len(x),1)),x]\n",
        "#print(x_b)\n",
        "print(computeCost(theta,x_b,y))\n",
        "\n",
        "theta,cost_history,theta_history = gradient_descent(x_b,y,theta,alpha,n_iter)\n",
        "\n",
        "print(theta)\n",
        "print('Final cost/MSE:  {:0.5f}'.format(cost_history[-1]))\n",
        "\n",
        "plt.plot(cost_history)\n",
        "plt.yscale('log')\n",
        "plt.xlabel(\"Iteration\")\n",
        "plt.ylabel(\"$J(\\Theta)$\")\n",
        "plt.title(\"Cost function using Gradient Descent\")"
      ],
      "metadata": {
        "outputId": "2e9fb47d-d1b5-4cc4-96f4-8d20a2352510",
        "colab": {
          "base_uri": "https://localhost:8080/",
          "height": 456
        },
        "id": "S6EW4a2iJPLK"
      },
      "execution_count": 62,
      "outputs": [
        {
          "output_type": "stream",
          "name": "stdout",
          "text": [
            "0.23318456761085524\n",
            "[[ 1.02158918]\n",
            " [-0.14446095]\n",
            " [-0.14153882]\n",
            " [-0.33481633]\n",
            " [-0.33948679]\n",
            " [-0.62605596]]\n",
            "Final cost/MSE:  0.00007\n"
          ]
        },
        {
          "output_type": "execute_result",
          "data": {
            "text/plain": [
              "Text(0.5, 1.0, 'Cost function using Gradient Descent')"
            ]
          },
          "metadata": {},
          "execution_count": 62
        },
        {
          "output_type": "display_data",
          "data": {
            "text/plain": [
              "<Figure size 432x288 with 1 Axes>"
            ],
            "image/png": "[encoded data removed]"
          },
          "metadata": {
            "needs_background": "light"
          }
        }
      ]
    }
  ]
}
