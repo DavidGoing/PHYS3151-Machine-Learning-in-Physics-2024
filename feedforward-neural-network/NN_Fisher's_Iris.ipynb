{
  "cells": [
    {
      "cell_type": "markdown",
      "metadata": {
        "id": "view-in-github",
        "colab_type": "text"
      },
      "source": [
        "<a href=\"https://colab.research.google.com/github/LeoisWTT/PHYS3151-Machine-Learning-in-Physics-2023/blob/main/feedforward-neural-network/NN_Fisher's_Iris.ipynb\" target=\"_parent\"><img src=\"https://colab.research.google.com/assets/colab-badge.svg\" alt=\"Open In Colab\"/></a>"
      ]
    },
    {
      "cell_type": "markdown",
      "source": [
        " <img title=\"NeuralNetwork\" src=\"https://github.com/LeoisWTT/PHYS3151-Machine-Learning-in-Physics-2023/blob/main/feedforward-neural-network/Colored_neural_network.svg.png?raw=1\" width=\"400\" /> <br> "
      ],
      "metadata": {
        "id": "yg_wWBjJisFv"
      }
    },
    {
      "cell_type": "code",
      "execution_count": 2,
      "metadata": {
        "id": "9G7MK2It2u5X"
      },
      "outputs": [],
      "source": [
        "import numpy as np\n",
        "import pandas as pd\n",
        "import matplotlib.pyplot as plt\n",
        "import random as rd"
      ]
    },
    {
      "cell_type": "code",
      "execution_count": 3,
      "metadata": {
        "colab": {
          "base_uri": "https://localhost:8080/"
        },
        "id": "MHYPADUt2yt0",
        "outputId": "c43209c8-d789-4103-da08-570aead96d54"
      },
      "outputs": [
        {
          "output_type": "stream",
          "name": "stdout",
          "text": [
            "Cloning into 'PHYS3151-Machine-Learning-in-Physics-2023'...\n",
            "remote: Enumerating objects: 644, done.\u001b[K\n",
            "remote: Counting objects: 100% (227/227), done.\u001b[K\n",
            "remote: Compressing objects: 100% (165/165), done.\u001b[K\n",
            "remote: Total 644 (delta 134), reused 114 (delta 62), pack-reused 417\u001b[K\n",
            "Receiving objects: 100% (644/644), 30.56 MiB | 10.00 MiB/s, done.\n",
            "Resolving deltas: 100% (351/351), done.\n"
          ]
        }
      ],
      "source": [
        "!git clone https://github.com/LeoisWTT/PHYS3151-Machine-Learning-in-Physics-2023"
      ]
    },
    {
      "cell_type": "code",
      "execution_count": 35,
      "metadata": {
        "id": "utwwSgb22u5Y"
      },
      "outputs": [],
      "source": [
        "df = pd.read_csv('/content/PHYS3151-Machine-Learning-in-Physics-2023/logistic-regression/iris-data.csv')"
      ]
    },
    {
      "cell_type": "code",
      "execution_count": 36,
      "metadata": {
        "id": "wQjJbPqyFGzW"
      },
      "outputs": [],
      "source": [
        "def sigmoid(x):  \n",
        "    return 1 / (1 + np.exp(-x))"
      ]
    },
    {
      "cell_type": "markdown",
      "metadata": {
        "id": "hiLynV5V_UUT"
      },
      "source": [
        "# One Hidden Layer"
      ]
    },
    {
      "cell_type": "code",
      "source": [
        "X = df.iloc[:, :4]        #features\n",
        "m=X.shape[0]\n",
        "p=X.shape[1]\n",
        "X = np.c_[np.ones((m, 1)), X]    #we need x_0\n",
        "X=np.array(X)\n",
        "iris_type= df.iloc[:, 4]         #outcome\n",
        "Y=[[1, 0, 0] if iris_type[i]=='Iris-setosa' else [0, 1, 0] if iris_type[i]=='Iris-versicolor' else [0, 0, 1] for i in range(m)]\n",
        "Y=np.array(Y)\n",
        "o=Y.shape[1]"
      ],
      "metadata": {
        "id": "Q7dI3hUFpwOq"
      },
      "execution_count": 37,
      "outputs": []
    },
    {
      "cell_type": "code",
      "source": [
        "stack=list(range(m))\n",
        "N_test=20\n",
        "rd.shuffle(stack)\n",
        "stack_test=stack[:N_test]\n",
        "stack_train=stack[N_test:]"
      ],
      "metadata": {
        "id": "HCGO052RVh6u"
      },
      "execution_count": 38,
      "outputs": []
    },
    {
      "cell_type": "code",
      "execution_count": 39,
      "metadata": {
        "id": "TedJHLN2A80c"
      },
      "outputs": [],
      "source": [
        "X_train = X[stack_train,:]\n",
        "m_train=X_train.shape[0]\n",
        "Y_train = Y[stack_train]"
      ]
    },
    {
      "cell_type": "code",
      "source": [
        "X_test = X[stack_test,:]\n",
        "m_test=X_test.shape[0]\n",
        "Y_test = Y[stack_test]"
      ],
      "metadata": {
        "id": "u8ER7ey5YHp4"
      },
      "execution_count": 40,
      "outputs": []
    },
    {
      "cell_type": "code",
      "execution_count": 41,
      "metadata": {
        "id": "q04vu4ZzEtXA"
      },
      "outputs": [],
      "source": [
        "#NN configurations\n",
        "n_nodes=3\n",
        "theta1=np.random.random((n_nodes,p+1))-1/2\n",
        "theta2=np.random.random((o,n_nodes+1))-1/2"
      ]
    },
    {
      "cell_type": "code",
      "source": [
        "def find_accuracy(X_temp,Y_temp):\n",
        "  acc=0\n",
        "  m_temp=X_temp.shape[0]\n",
        "  for i_temp in range(m_temp):\n",
        "    x= X_temp[i_temp,:].reshape(p+1,1)\n",
        "    z2=np.dot(theta1,x)\n",
        "    h2=sigmoid(z2)\n",
        "    h2=np.r_[np.array(1).reshape(1,1), h2]\n",
        "    z3=np.dot(theta2,h2)\n",
        "    h3=sigmoid(z3)\n",
        "    if Y_temp[i_temp,np.argmax(h3)]:\n",
        "      acc+=1\n",
        "  acc=acc/m_temp*100\n",
        "  return acc"
      ],
      "metadata": {
        "id": "dkfNHsVMFtBc"
      },
      "execution_count": 42,
      "outputs": []
    },
    {
      "cell_type": "code",
      "execution_count": 43,
      "metadata": {
        "colab": {
          "base_uri": "https://localhost:8080/"
        },
        "id": "YIVh9yItFV85",
        "outputId": "30d948b8-c853-4c7e-8a95-0f5be49afcd9"
      },
      "outputs": [
        {
          "output_type": "stream",
          "name": "stdout",
          "text": [
            "Complete: 1\n",
            "The cost of train sample is 0.218899\n",
            "The accuracy of train sample is 96.15%\n",
            "The accuracy of test sample is 100.00%\n",
            "Complete: 2\n",
            "The cost of train sample is 0.152202\n",
            "The accuracy of train sample is 97.69%\n",
            "The accuracy of test sample is 100.00%\n",
            "Complete: 3\n",
            "The cost of train sample is 0.130308\n",
            "The accuracy of train sample is 96.92%\n",
            "The accuracy of test sample is 100.00%\n",
            "Complete: 4\n",
            "The cost of train sample is 0.119483\n",
            "The accuracy of train sample is 96.92%\n",
            "The accuracy of test sample is 100.00%\n",
            "Complete: 5\n",
            "The cost of train sample is 0.112318\n",
            "The accuracy of train sample is 96.92%\n",
            "The accuracy of test sample is 100.00%\n",
            "Complete: 6\n",
            "The cost of train sample is 0.105035\n",
            "The accuracy of train sample is 97.69%\n",
            "The accuracy of test sample is 100.00%\n",
            "Complete: 7\n",
            "The cost of train sample is 0.099561\n",
            "The accuracy of train sample is 97.69%\n",
            "The accuracy of test sample is 100.00%\n",
            "Complete: 8\n",
            "The cost of train sample is 0.095585\n",
            "The accuracy of train sample is 97.69%\n",
            "The accuracy of test sample is 100.00%\n",
            "Complete: 9\n",
            "The cost of train sample is 0.092472\n",
            "The accuracy of train sample is 97.69%\n",
            "The accuracy of test sample is 95.00%\n",
            "Complete: 10\n",
            "The cost of train sample is 0.089950\n",
            "The accuracy of train sample is 98.46%\n",
            "The accuracy of test sample is 95.00%\n"
          ]
        }
      ],
      "source": [
        "alpha=4\n",
        "n_itr=1000\n",
        "I=int(n_itr/10)\n",
        "cost_history=[]\n",
        "acc_train_history=[]\n",
        "acc_test_history=[]\n",
        "for itr in range(n_itr):\n",
        "  J=0\n",
        "  acc_train=0\n",
        "  for data_index in range(m_train):\n",
        "    #forward propagation\n",
        "    x= X_train[[data_index],:].T\n",
        "    z2=np.dot(theta1,x)\n",
        "    h2=sigmoid(z2)\n",
        "    h2=np.r_[np.ones((1,1)), h2]\n",
        "    z3=np.dot(theta2,h2)\n",
        "    h3=sigmoid(z3)\n",
        "    #back propagation\n",
        "    Ym=h3-Y_train[[data_index],:].T\n",
        "    delta3=2/m_train*(Ym*h3*(1-h3))\n",
        "    delta2=theta2.T@(delta3)*h2*(1-h2)\n",
        "    theta2=theta2-alpha*delta3@h2.T\n",
        "    theta1=theta1-alpha*delta2[1:,:]@x.T\n",
        "    J+=np.linalg.norm(Ym,2)\n",
        "    if Y_train[data_index,np.argmax(h3)]:\n",
        "      acc_train+=1\n",
        "  acc_train*=100/m_train\n",
        "  J/=m_train\n",
        "  cost_history.append(J)\n",
        "  acc_train_history.append(acc_train)\n",
        "  acc_test_history.append(find_accuracy(X_test, Y_test))\n",
        "  if (itr+1) % I==0:\n",
        "    alpha/=1.2\n",
        "    print('Complete:',int((itr+1)/I))\n",
        "    print('The cost of train sample is {:.6f}'.format(J))\n",
        "    print('The accuracy of train sample is {:.2f}%'.format(acc_train))\n",
        "    print('The accuracy of test sample is {:.2f}%'.format(acc_test_history[-1]))"
      ]
    },
    {
      "cell_type": "code",
      "source": [
        "plt.plot(cost_history)"
      ],
      "metadata": {
        "id": "uY-pwVlMxHU-",
        "colab": {
          "base_uri": "https://localhost:8080/",
          "height": 448
        },
        "outputId": "89816494-f116-4da0-e07f-a59aade7d84a"
      },
      "execution_count": 44,
      "outputs": [
        {
          "output_type": "execute_result",
          "data": {
            "text/plain": [
              "[<matplotlib.lines.Line2D at 0x7f4bdbe32310>]"
            ]
          },
          "metadata": {},
          "execution_count": 44
        },
        {
          "output_type": "display_data",
          "data": {
            "text/plain": [
              "<Figure size 640x480 with 1 Axes>"
            ],
            "image/png": "[encoded data removed]"
          },
          "metadata": {}
        }
      ]
    },
    {
      "cell_type": "code",
      "source": [
        "plt.plot(acc_train_history,label='Train')\n",
        "plt.plot(acc_test_history,label='Test')\n",
        "plt.legend()"
      ],
      "metadata": {
        "colab": {
          "base_uri": "https://localhost:8080/",
          "height": 448
        },
        "id": "Ul6t9HT-1O_-",
        "outputId": "5dfb895a-b8c3-40a1-ea81-8b1e1ce28d50"
      },
      "execution_count": 45,
      "outputs": [
        {
          "output_type": "execute_result",
          "data": {
            "text/plain": [
              "<matplotlib.legend.Legend at 0x7f4bdbd8b790>"
            ]
          },
          "metadata": {},
          "execution_count": 45
        },
        {
          "output_type": "display_data",
          "data": {
            "text/plain": [
              "<Figure size 640x480 with 1 Axes>"
            ],
            "image/png": "[encoded data removed]"
          },
          "metadata": {}
        }
      ]
    },
    {
      "cell_type": "code",
      "source": [
        "index_temp=54\n",
        "x= X[[index_temp],:].T\n",
        "z2=np.dot(theta1,x)\n",
        "h2=sigmoid(z2)\n",
        "h2=np.r_[np.ones((1,1)), h2]\n",
        "z3=np.dot(theta2,h2)\n",
        "h3=sigmoid(z3)\n",
        "print(h3)\n",
        "print(Y[index_temp])\n",
        "print(Y[index_temp,np.argmax(h3)])"
      ],
      "metadata": {
        "colab": {
          "base_uri": "https://localhost:8080/"
        },
        "id": "Za-7oBe-g0JM",
        "outputId": "92e9a447-95c8-4775-e424-b54efe2d24c1"
      },
      "execution_count": 46,
      "outputs": [
        {
          "output_type": "stream",
          "name": "stdout",
          "text": [
            "[[0.02344888]\n",
            " [0.96830675]\n",
            " [0.02604265]]\n",
            "[0 1 0]\n",
            "1\n"
          ]
        }
      ]
    },
    {
      "cell_type": "markdown",
      "metadata": {
        "id": "nQxwAGUoQiPw"
      },
      "source": [
        "# Multiple Hidden Layers"
      ]
    },
    {
      "cell_type": "code",
      "source": [
        "X = df.iloc[:, :4]        #features\n",
        "m=X.shape[0]\n",
        "p=X.shape[1]\n",
        "X=np.array(X)\n",
        "iris_type= df.iloc[:, 4]         #outcome\n",
        "Y=[[1, 0, 0] if iris_type[i]=='Iris-setosa' else [0, 1, 0] if iris_type[i]=='Iris-versicolor' else [0, 0, 1] for i in range(m)]\n",
        "Y=np.array(Y)\n",
        "o=Y.shape[1]"
      ],
      "metadata": {
        "id": "zI7H_EylQiP9"
      },
      "execution_count": 67,
      "outputs": []
    },
    {
      "cell_type": "code",
      "source": [
        "stack=list(range(m))\n",
        "N_test=20\n",
        "rd.shuffle(stack)\n",
        "stack_test=stack[:N_test]\n",
        "stack_train=stack[N_test:]"
      ],
      "metadata": {
        "id": "DSpcIXmQQiP-"
      },
      "execution_count": 68,
      "outputs": []
    },
    {
      "cell_type": "code",
      "execution_count": 69,
      "metadata": {
        "id": "gftwdHIfQiP-"
      },
      "outputs": [],
      "source": [
        "X_train = X[stack_train,:]\n",
        "m_train=X_train.shape[0]\n",
        "Y_train = Y[stack_train]"
      ]
    },
    {
      "cell_type": "code",
      "source": [
        "X_test = X[stack_test,:]\n",
        "m_test=X_test.shape[0]\n",
        "Y_test = Y[stack_test]"
      ],
      "metadata": {
        "id": "qlLx7jPaQiP-"
      },
      "execution_count": 70,
      "outputs": []
    },
    {
      "cell_type": "code",
      "execution_count": 71,
      "metadata": {
        "id": "Diio4bBdQiP-"
      },
      "outputs": [],
      "source": [
        "#NN configurations\n",
        "node_list=[p, 2, 4, o]\n",
        "n_layer=len(node_list)\n",
        "theta=[np.random.random((node_list[i+1],node_list[i]+1))-1/2 for i in range(n_layer-1)]"
      ]
    },
    {
      "cell_type": "code",
      "source": [
        "def find_accuracy(X_temp,Y_temp):\n",
        "  acc=0\n",
        "  m_temp=X_temp.shape[0]\n",
        "  for i_temp in range(m_temp):\n",
        "    x= X_temp[i_temp,:].reshape(p,1)\n",
        "    #forward propagation\n",
        "    h=np.r_[np.ones((1,1)), x]\n",
        "    for l in range(n_layer-1):      \n",
        "      z_temp=np.dot(theta[l],h)\n",
        "      h=np.r_[np.ones((1,1)),sigmoid(z_temp)]\n",
        "    h_end=h[1:]\n",
        "    if Y_temp[i_temp,np.argmax(h_end)]:\n",
        "      acc+=1\n",
        "  acc=acc/m_temp*100\n",
        "  return acc"
      ],
      "metadata": {
        "id": "M3Bf0JqpQiP9"
      },
      "execution_count": 72,
      "outputs": []
    },
    {
      "cell_type": "code",
      "execution_count": 73,
      "metadata": {
        "colab": {
          "base_uri": "https://localhost:8080/"
        },
        "outputId": "1dab9b32-74bd-4a2e-aab8-cd1dc163e523",
        "id": "vcftFTLmQiP-"
      },
      "outputs": [
        {
          "output_type": "stream",
          "name": "stdout",
          "text": [
            "Complete: 1\n",
            "The cost of train sample is 0.528778\n",
            "The accuracy of train sample is 69.23%\n",
            "The accuracy of test sample is 65.00%\n",
            "Complete: 2\n",
            "The cost of train sample is 0.484699\n",
            "The accuracy of train sample is 91.54%\n",
            "The accuracy of test sample is 80.00%\n",
            "Complete: 3\n",
            "The cost of train sample is 0.256340\n",
            "The accuracy of train sample is 96.92%\n",
            "The accuracy of test sample is 90.00%\n",
            "Complete: 4\n",
            "The cost of train sample is 0.163841\n",
            "The accuracy of train sample is 96.92%\n",
            "The accuracy of test sample is 90.00%\n",
            "Complete: 5\n",
            "The cost of train sample is 0.128586\n",
            "The accuracy of train sample is 98.46%\n",
            "The accuracy of test sample is 90.00%\n",
            "Complete: 6\n",
            "The cost of train sample is 0.111509\n",
            "The accuracy of train sample is 98.46%\n",
            "The accuracy of test sample is 90.00%\n",
            "Complete: 7\n",
            "The cost of train sample is 0.098966\n",
            "The accuracy of train sample is 99.23%\n",
            "The accuracy of test sample is 95.00%\n",
            "Complete: 8\n",
            "The cost of train sample is 0.091149\n",
            "The accuracy of train sample is 99.23%\n",
            "The accuracy of test sample is 95.00%\n",
            "Complete: 9\n",
            "The cost of train sample is 0.086102\n",
            "The accuracy of train sample is 99.23%\n",
            "The accuracy of test sample is 95.00%\n",
            "Complete: 10\n",
            "The cost of train sample is 0.082268\n",
            "The accuracy of train sample is 99.23%\n",
            "The accuracy of test sample is 90.00%\n"
          ]
        }
      ],
      "source": [
        "alpha=4\n",
        "n_itr=1000\n",
        "I=int(n_itr/10)\n",
        "cost_history=[]\n",
        "acc_train_history=[]\n",
        "acc_test_history=[]\n",
        "for itr in range(n_itr):\n",
        "  J=0\n",
        "  acc_train=0\n",
        "  for data_index in range(m_train):\n",
        "    x_here= X_train[[data_index],:].T\n",
        "    y_here=Y_train[[data_index],:].T\n",
        "    #forward propagation\n",
        "    h=[]\n",
        "    h.append(np.r_[np.ones((1,1)), x_here])\n",
        "    for l in range(n_layer-1):      \n",
        "      z_temp=np.dot(theta[l],h[l])\n",
        "      h.append(np.r_[np.ones((1,1)),sigmoid(z_temp)])\n",
        "    #back propagation\n",
        "    h_end=h[-1][1:]\n",
        "    Ym=h_end-y_here\n",
        "    delta=[]\n",
        "    delta.append(2/m_train*(Ym*h_end*(1-h_end)))\n",
        "    delta.append(theta[-1].T@delta[-1]*h[-2]*(1-h[-2]))\n",
        "    theta[-1]-=alpha*delta[-2]@h[-2].T\n",
        "    for l in range(2,n_layer):\n",
        "      delta.append(theta[-l].T@delta[-1][1:]*h[-l-1]*(1-h[-l-1]))\n",
        "      theta[-l]-=alpha*delta[-2][1:]@h[-l-1].T\n",
        "    J+=np.linalg.norm(Ym,2)\n",
        "    if Y_train[data_index,np.argmax(h_end)]:\n",
        "      acc_train+=1\n",
        "  acc_train*=100/m_train\n",
        "  J/=m_train\n",
        "  cost_history.append(J)\n",
        "  acc_train_history.append(acc_train)\n",
        "  acc_test_history.append(find_accuracy(X_test, Y_test))\n",
        "  if (itr+1) % I==0:\n",
        "    alpha/=1.2\n",
        "    print('Complete:',int((itr+1)/I))\n",
        "    print('The cost of train sample is {:.6f}'.format(J))\n",
        "    print('The accuracy of train sample is {:.2f}%'.format(acc_train))\n",
        "    print('The accuracy of test sample is {:.2f}%'.format(acc_test_history[-1]))"
      ]
    },
    {
      "cell_type": "code",
      "source": [
        "plt.plot(cost_history)"
      ],
      "metadata": {
        "id": "aFrw7Hz8QiP-",
        "outputId": "82232f0d-7da8-4ac1-b9f9-1f5de9b63b68",
        "colab": {
          "base_uri": "https://localhost:8080/",
          "height": 448
        }
      },
      "execution_count": 74,
      "outputs": [
        {
          "output_type": "execute_result",
          "data": {
            "text/plain": [
              "[<matplotlib.lines.Line2D at 0x7f4bdbaab610>]"
            ]
          },
          "metadata": {},
          "execution_count": 74
        },
        {
          "output_type": "display_data",
          "data": {
            "text/plain": [
              "<Figure size 640x480 with 1 Axes>"
            ],
            "image/png": "[encoded data removed]"
          },
          "metadata": {}
        }
      ]
    },
    {
      "cell_type": "code",
      "source": [
        "plt.plot(acc_train_history,label='Train')\n",
        "plt.plot(acc_test_history,label='Test')\n",
        "plt.legend()"
      ],
      "metadata": {
        "id": "OyShMTKuQiP_",
        "outputId": "bfeb67d5-75e0-4303-b604-7f8527847001",
        "colab": {
          "base_uri": "https://localhost:8080/",
          "height": 448
        }
      },
      "execution_count": 75,
      "outputs": [
        {
          "output_type": "execute_result",
          "data": {
            "text/plain": [
              "<matplotlib.legend.Legend at 0x7f4bdba01df0>"
            ]
          },
          "metadata": {},
          "execution_count": 75
        },
        {
          "output_type": "display_data",
          "data": {
            "text/plain": [
              "<Figure size 640x480 with 1 Axes>"
            ],
            "image/png": "[encoded data removed]"
          },
          "metadata": {}
        }
      ]
    },
    {
      "cell_type": "code",
      "source": [
        "index_temp=54\n",
        "x= X[index_temp,:].reshape(p,1)\n",
        "#forward propagation\n",
        "h=np.r_[np.ones((1,1)), x]\n",
        "for l in range(n_layer-1):      \n",
        "  z_temp=np.dot(theta[l],h)\n",
        "  h=np.r_[np.ones((1,1)),sigmoid(z_temp)]\n",
        "h_end=h[1:]\n",
        "print(h3)\n",
        "print(Y[index_temp])\n",
        "print(Y[index_temp,np.argmax(h_end)])"
      ],
      "metadata": {
        "id": "0Hhnl2XOQiP_",
        "outputId": "2d6613b7-8a82-464b-b0d5-45315c6ef37f",
        "colab": {
          "base_uri": "https://localhost:8080/"
        }
      },
      "execution_count": 78,
      "outputs": [
        {
          "output_type": "stream",
          "name": "stdout",
          "text": [
            "[[0.02344888]\n",
            " [0.96830675]\n",
            " [0.02604265]]\n",
            "[0 1 0]\n",
            "1\n"
          ]
        }
      ]
    }
  ],
  "metadata": {
    "colab": {
      "provenance": [],
      "authorship_tag": "ABX9TyMjPjmFog670vqYX+gVw11c",
      "include_colab_link": true
    },
    "kernelspec": {
      "display_name": "Python 3",
      "name": "python3"
    },
    "language_info": {
      "name": "python"
    }
  },
  "nbformat": 4,
  "nbformat_minor": 0
}