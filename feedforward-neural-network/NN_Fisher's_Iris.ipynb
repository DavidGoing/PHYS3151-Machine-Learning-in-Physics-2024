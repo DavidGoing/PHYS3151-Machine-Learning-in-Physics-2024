{
  "cells": [
    {
      "cell_type": "markdown",
      "metadata": {
        "id": "view-in-github",
        "colab_type": "text"
      },
      "source": [
        "<a href=\"https://colab.research.google.com/github/LeoisWTT/PHYS3151-Machine-Learning-in-Physics-2023/blob/main/feedforward-neural-network/NN_Fisher's_Iris.ipynb\" target=\"_parent\"><img src=\"https://colab.research.google.com/assets/colab-badge.svg\" alt=\"Open In Colab\"/></a>"
      ]
    },
    {
      "cell_type": "markdown",
      "source": [
        " <img title=\"NeuralNetwork\" src=\"https://github.com/LeoisWTT/PHYS3151-Machine-Learning-in-Physics-2023/blob/main/feedforward-neural-network/Colored_neural_network.svg.png?raw=1\" width=\"400\" /> <br> "
      ],
      "metadata": {
        "id": "yg_wWBjJisFv"
      }
    },
    {
      "cell_type": "code",
      "execution_count": 1,
      "metadata": {
        "id": "9G7MK2It2u5X"
      },
      "outputs": [],
      "source": [
        "import numpy as np\n",
        "import pandas as pd\n",
        "import matplotlib.pyplot as plt\n",
        "import random as rd"
      ]
    },
    {
      "cell_type": "code",
      "execution_count": 2,
      "metadata": {
        "colab": {
          "base_uri": "https://localhost:8080/"
        },
        "id": "MHYPADUt2yt0",
        "outputId": "c0a4dc24-69f1-4a09-d552-02520e0d44c0"
      },
      "outputs": [
        {
          "output_type": "stream",
          "name": "stdout",
          "text": [
            "Cloning into 'PHYS3151-Machine-Learning-in-Physics-2023'...\n",
            "remote: Enumerating objects: 608, done.\u001b[K\n",
            "remote: Counting objects: 100% (191/191), done.\u001b[K\n",
            "remote: Compressing objects: 100% (129/129), done.\u001b[K\n",
            "remote: Total 608 (delta 110), reused 114 (delta 62), pack-reused 417\u001b[K\n",
            "Receiving objects: 100% (608/608), 30.43 MiB | 17.96 MiB/s, done.\n",
            "Resolving deltas: 100% (327/327), done.\n"
          ]
        }
      ],
      "source": [
        "!git clone https://github.com/LeoisWTT/PHYS3151-Machine-Learning-in-Physics-2023"
      ]
    },
    {
      "cell_type": "code",
      "execution_count": 3,
      "metadata": {
        "id": "utwwSgb22u5Y"
      },
      "outputs": [],
      "source": [
        "df = pd.read_csv('/content/PHYS3151-Machine-Learning-in-Physics-2023/logistic-regression/iris-data.csv')"
      ]
    },
    {
      "cell_type": "code",
      "execution_count": 4,
      "metadata": {
        "id": "wQjJbPqyFGzW"
      },
      "outputs": [],
      "source": [
        "def sigmoid(x):  \n",
        "    return 1 / (1 + np.exp(-x))"
      ]
    },
    {
      "cell_type": "markdown",
      "metadata": {
        "id": "hiLynV5V_UUT"
      },
      "source": [
        "# One Hidden Layer"
      ]
    },
    {
      "cell_type": "code",
      "source": [
        "def find_accuracy(X_temp,Y_temp):\n",
        "  acc=0\n",
        "  m_temp=X_temp.shape[0]\n",
        "  for i_temp in range(m_temp):\n",
        "    x= X_temp[i_temp,:].reshape(n_feature+1,1)\n",
        "    z2=np.dot(theta1,x)\n",
        "    h2=sigmoid(z2)\n",
        "    h2=np.r_[np.array(1).reshape(1,1), h2]\n",
        "    z3=np.dot(theta2,h2)\n",
        "    h3=sigmoid(z3)\n",
        "    if h3[Y_temp[i_temp]]==max(h3):\n",
        "      acc+=1\n",
        "  acc=acc/m_temp*100\n",
        "  return acc"
      ],
      "metadata": {
        "id": "dkfNHsVMFtBc"
      },
      "execution_count": 5,
      "outputs": []
    },
    {
      "cell_type": "code",
      "source": [
        "X = df.iloc[:, :4]        #features\n",
        "m=X.shape[0]\n",
        "X = np.c_[np.ones((m, 1)), X]    #we need x_0\n",
        "X=np.array(X)\n",
        "Y= df.iloc[:, 4]         #outcome\n",
        "Y=[0 if Y[i]=='Iris-setosa' else 1 if Y[i]=='Iris-versicolor' else 2 for i in range(m)]\n",
        "Y=np.array(Y)"
      ],
      "metadata": {
        "id": "Q7dI3hUFpwOq"
      },
      "execution_count": 6,
      "outputs": []
    },
    {
      "cell_type": "code",
      "source": [
        "stack=list(range(150))\n",
        "N_test=20\n",
        "rd.shuffle(stack)\n",
        "stack_test=stack[:N_test]\n",
        "stack_train=stack[N_test:]"
      ],
      "metadata": {
        "id": "HCGO052RVh6u"
      },
      "execution_count": 7,
      "outputs": []
    },
    {
      "cell_type": "code",
      "execution_count": 8,
      "metadata": {
        "id": "TedJHLN2A80c"
      },
      "outputs": [],
      "source": [
        "X_train = X[stack_train,:]\n",
        "m_train=X_train.shape[0]\n",
        "Y_train = Y[stack_train]"
      ]
    },
    {
      "cell_type": "code",
      "source": [
        "X_test = X[stack_test,:]\n",
        "m_test=X_test.shape[0]\n",
        "Y_test = Y[stack_test]"
      ],
      "metadata": {
        "id": "u8ER7ey5YHp4"
      },
      "execution_count": 9,
      "outputs": []
    },
    {
      "cell_type": "code",
      "execution_count": 10,
      "metadata": {
        "id": "q04vu4ZzEtXA"
      },
      "outputs": [],
      "source": [
        "#NN configurations\n",
        "n_nodes=5\n",
        "n_feature=4\n",
        "n_output=3\n",
        "theta1=np.random.random((n_nodes,n_feature+1))-1/2\n",
        "theta2=np.random.random((n_output,n_nodes+1))-1/2"
      ]
    },
    {
      "cell_type": "code",
      "execution_count": 11,
      "metadata": {
        "colab": {
          "base_uri": "https://localhost:8080/"
        },
        "id": "YIVh9yItFV85",
        "outputId": "2bf79389-66c4-4f25-b7fe-76ad81c52016"
      },
      "outputs": [
        {
          "output_type": "stream",
          "name": "stdout",
          "text": [
            "Complete: 1\n",
            "The cost of train sample is 0.199835\n",
            "The accuracy of train sample is 96.92\n",
            "The accuracy of test sample is 95.00\n",
            "Complete: 2\n",
            "The cost of train sample is 0.140679\n",
            "The accuracy of train sample is 97.69\n",
            "The accuracy of test sample is 100.00\n",
            "Complete: 3\n",
            "The cost of train sample is 0.122986\n",
            "The accuracy of train sample is 97.69\n",
            "The accuracy of test sample is 95.00\n",
            "Complete: 4\n",
            "The cost of train sample is 0.111957\n",
            "The accuracy of train sample is 97.69\n",
            "The accuracy of test sample is 95.00\n",
            "Complete: 5\n",
            "The cost of train sample is 0.103827\n",
            "The accuracy of train sample is 97.69\n",
            "The accuracy of test sample is 95.00\n",
            "Complete: 6\n",
            "The cost of train sample is 0.097770\n",
            "The accuracy of train sample is 97.69\n",
            "The accuracy of test sample is 90.00\n",
            "Complete: 7\n",
            "The cost of train sample is 0.093156\n",
            "The accuracy of train sample is 98.46\n",
            "The accuracy of test sample is 85.00\n",
            "Complete: 8\n",
            "The cost of train sample is 0.089561\n",
            "The accuracy of train sample is 98.46\n",
            "The accuracy of test sample is 85.00\n",
            "Complete: 9\n",
            "The cost of train sample is 0.086711\n",
            "The accuracy of train sample is 98.46\n",
            "The accuracy of test sample is 90.00\n",
            "Complete: 10\n",
            "The cost of train sample is 0.084416\n",
            "The accuracy of train sample is 99.23\n",
            "The accuracy of test sample is 90.00\n"
          ]
        }
      ],
      "source": [
        "alpha=4\n",
        "n_itr=1000\n",
        "I=int(n_itr/10)\n",
        "cost_history=[]\n",
        "acc_train_history=[]\n",
        "acc_test_history=[]\n",
        "for itr in range(n_itr):\n",
        "  J=0\n",
        "  acc_train=0\n",
        "  for data_index in range(m_train):\n",
        "    #forward propagation\n",
        "    x= X_train[[data_index],:].T\n",
        "    z2=np.dot(theta1,x)\n",
        "    h2=sigmoid(z2)\n",
        "    h2=np.r_[np.ones((1,1)), h2]\n",
        "    z3=np.dot(theta2,h2)\n",
        "    h3=sigmoid(z3)\n",
        "    #back propagation\n",
        "    y_temp=np.zeros((3,1))\n",
        "    y_temp[Y_train[data_index]]=1\n",
        "    Ym=h3-y_temp\n",
        "    delta3=2/m_train*(Ym*h3*(1-h3))\n",
        "    theta2=theta2-alpha*delta3@h2.T\n",
        "    delta2=theta2.T@(delta3)*h2*(1-h2)\n",
        "    theta1=theta1-alpha*delta2[1:,:]@x.T\n",
        "    J+=np.linalg.norm(Ym,2)\n",
        "    if h3[Y_train[data_index]]==max(h3):\n",
        "      acc_train+=1\n",
        "  acc_train*=100/m_train\n",
        "  J/=m_train\n",
        "  cost_history.append(J)\n",
        "  acc_train_history.append(acc_train)\n",
        "  acc_test_history.append(find_accuracy(X_test, Y_test))\n",
        "  if (itr+1) % I==0:\n",
        "    alpha/=1.2\n",
        "    print('Complete:',int((itr+1)/I))\n",
        "    print('The cost of train sample is {:.6f}'.format(J))\n",
        "    print('The accuracy of train sample is {:.2f}'.format(acc_train))\n",
        "    print('The accuracy of test sample is {:.2f}'.format(acc_test_history[-1]))"
      ]
    },
    {
      "cell_type": "code",
      "source": [
        "plt.plot(cost_history)"
      ],
      "metadata": {
        "id": "uY-pwVlMxHU-",
        "colab": {
          "base_uri": "https://localhost:8080/",
          "height": 452
        },
        "outputId": "e434542c-72ea-43dd-c864-b5f6259b1d4b"
      },
      "execution_count": 12,
      "outputs": [
        {
          "output_type": "execute_result",
          "data": {
            "text/plain": [
              "[<matplotlib.lines.Line2D at 0x7f3659c76a00>]"
            ]
          },
          "metadata": {},
          "execution_count": 12
        },
        {
          "output_type": "display_data",
          "data": {
            "text/plain": [
              "<Figure size 640x480 with 1 Axes>"
            ],
            "image/png": "[encoded data removed]"
          },
          "metadata": {}
        }
      ]
    },
    {
      "cell_type": "code",
      "source": [
        "plt.plot(acc_train_history,label='Train')\n",
        "plt.plot(acc_test_history,label='Test')\n",
        "plt.legend()"
      ],
      "metadata": {
        "colab": {
          "base_uri": "https://localhost:8080/",
          "height": 448
        },
        "id": "Ul6t9HT-1O_-",
        "outputId": "148f39bd-275f-43ac-f5a5-56770a409964"
      },
      "execution_count": 13,
      "outputs": [
        {
          "output_type": "execute_result",
          "data": {
            "text/plain": [
              "<matplotlib.legend.Legend at 0x7f365738deb0>"
            ]
          },
          "metadata": {},
          "execution_count": 13
        },
        {
          "output_type": "display_data",
          "data": {
            "text/plain": [
              "<Figure size 640x480 with 1 Axes>"
            ],
            "image/png": "[encoded data removed]"
          },
          "metadata": {}
        }
      ]
    },
    {
      "cell_type": "code",
      "source": [
        "index_temp=54\n",
        "x= X[[index_temp],:].T\n",
        "z2=np.dot(theta1,x)\n",
        "h2=sigmoid(z2)\n",
        "h2=np.r_[np.ones((1,1)), h2]\n",
        "z3=np.dot(theta2,h2)\n",
        "h3=sigmoid(z3)\n",
        "print(h3)\n",
        "print(Y[index_temp])\n",
        "print(h3[Y[index_temp]]==max(h3))"
      ],
      "metadata": {
        "colab": {
          "base_uri": "https://localhost:8080/"
        },
        "id": "Za-7oBe-g0JM",
        "outputId": "dc1f6869-a44b-4270-d1dc-998aa9c0a157"
      },
      "execution_count": 14,
      "outputs": [
        {
          "output_type": "stream",
          "name": "stdout",
          "text": [
            "[[0.02538095]\n",
            " [0.96521256]\n",
            " [0.01474313]]\n",
            "1\n",
            "[ True]\n"
          ]
        }
      ]
    }
  ],
  "metadata": {
    "colab": {
      "provenance": [],
      "authorship_tag": "ABX9TyMtuiMEqvJZktKGiyoqp/MM",
      "include_colab_link": true
    },
    "kernelspec": {
      "display_name": "Python 3",
      "name": "python3"
    },
    "language_info": {
      "name": "python"
    }
  },
  "nbformat": 4,
  "nbformat_minor": 0
}