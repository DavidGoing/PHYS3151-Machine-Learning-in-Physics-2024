{
  "cells": [
    {
      "cell_type": "markdown",
      "metadata": {
        "id": "view-in-github",
        "colab_type": "text"
      },
      "source": [
        "<a href=\"https://colab.research.google.com/github/LeoisWTT/PHYS3151-Machine-Learning-in-Physics-2023/blob/main/feedforward-neural-network/NN_Fisher's_Iris.ipynb\" target=\"_parent\"><img src=\"https://colab.research.google.com/assets/colab-badge.svg\" alt=\"Open In Colab\"/></a>"
      ]
    },
    {
      "cell_type": "markdown",
      "source": [
        " <img title=\"NeuralNetwork\" src=\"https://github.com/LeoisWTT/PHYS3151-Machine-Learning-in-Physics-2023/blob/main/feedforward-neural-network/Colored_neural_network.svg.png?raw=1\" width=\"400\" /> <br> "
      ],
      "metadata": {
        "id": "yg_wWBjJisFv"
      }
    },
    {
      "cell_type": "code",
      "execution_count": 1,
      "metadata": {
        "id": "9G7MK2It2u5X"
      },
      "outputs": [],
      "source": [
        "import numpy as np\n",
        "import pandas as pd\n",
        "import matplotlib.pyplot as plt\n",
        "import random as rd"
      ]
    },
    {
      "cell_type": "code",
      "execution_count": 2,
      "metadata": {
        "colab": {
          "base_uri": "https://localhost:8080/"
        },
        "id": "MHYPADUt2yt0",
        "outputId": "5c59b799-6f1d-48bf-bf18-72a4be4f81fc"
      },
      "outputs": [
        {
          "output_type": "stream",
          "name": "stdout",
          "text": [
            "Cloning into 'PHYS3151-Machine-Learning-in-Physics-2023'...\n",
            "remote: Enumerating objects: 612, done.\u001b[K\n",
            "remote: Counting objects: 100% (195/195), done.\u001b[K\n",
            "remote: Compressing objects: 100% (133/133), done.\u001b[K\n",
            "remote: Total 612 (delta 112), reused 114 (delta 62), pack-reused 417\u001b[K\n",
            "Receiving objects: 100% (612/612), 30.47 MiB | 20.62 MiB/s, done.\n",
            "Resolving deltas: 100% (329/329), done.\n"
          ]
        }
      ],
      "source": [
        "!git clone https://github.com/LeoisWTT/PHYS3151-Machine-Learning-in-Physics-2023"
      ]
    },
    {
      "cell_type": "code",
      "execution_count": 3,
      "metadata": {
        "id": "utwwSgb22u5Y"
      },
      "outputs": [],
      "source": [
        "df = pd.read_csv('/content/PHYS3151-Machine-Learning-in-Physics-2023/logistic-regression/iris-data.csv')"
      ]
    },
    {
      "cell_type": "code",
      "execution_count": 4,
      "metadata": {
        "id": "wQjJbPqyFGzW"
      },
      "outputs": [],
      "source": [
        "def sigmoid(x):  \n",
        "    return 1 / (1 + np.exp(-x))"
      ]
    },
    {
      "cell_type": "markdown",
      "metadata": {
        "id": "hiLynV5V_UUT"
      },
      "source": [
        "# One Hidden Layer"
      ]
    },
    {
      "cell_type": "code",
      "source": [
        "X = df.iloc[:, :4]        #features\n",
        "m=X.shape[0]\n",
        "p=X.shape[1]\n",
        "X = np.c_[np.ones((m, 1)), X]    #we need x_0\n",
        "X=np.array(X)\n",
        "iris_type= df.iloc[:, 4]         #outcome\n",
        "Y=[[1, 0, 0] if iris_type[i]=='Iris-setosa' else [0, 1, 0] if iris_type[i]=='Iris-versicolor' else [0, 0, 1] for i in range(m)]\n",
        "Y=np.array(Y)\n",
        "o=Y.shape[1]"
      ],
      "metadata": {
        "id": "Q7dI3hUFpwOq"
      },
      "execution_count": 58,
      "outputs": []
    },
    {
      "cell_type": "code",
      "source": [
        "stack=list(range(m))\n",
        "N_test=20\n",
        "rd.shuffle(stack)\n",
        "stack_test=stack[:N_test]\n",
        "stack_train=stack[N_test:]"
      ],
      "metadata": {
        "id": "HCGO052RVh6u"
      },
      "execution_count": 59,
      "outputs": []
    },
    {
      "cell_type": "code",
      "execution_count": 60,
      "metadata": {
        "id": "TedJHLN2A80c"
      },
      "outputs": [],
      "source": [
        "X_train = X[stack_train,:]\n",
        "m_train=X_train.shape[0]\n",
        "Y_train = Y[stack_train]"
      ]
    },
    {
      "cell_type": "code",
      "source": [
        "X_test = X[stack_test,:]\n",
        "m_test=X_test.shape[0]\n",
        "Y_test = Y[stack_test]"
      ],
      "metadata": {
        "id": "u8ER7ey5YHp4"
      },
      "execution_count": 61,
      "outputs": []
    },
    {
      "cell_type": "code",
      "execution_count": 62,
      "metadata": {
        "id": "q04vu4ZzEtXA"
      },
      "outputs": [],
      "source": [
        "#NN configurations\n",
        "n_nodes=3\n",
        "theta1=np.random.random((n_nodes,p+1))-1/2\n",
        "theta2=np.random.random((o,n_nodes+1))-1/2"
      ]
    },
    {
      "cell_type": "code",
      "source": [
        "def find_accuracy(X_temp,Y_temp):\n",
        "  acc=0\n",
        "  m_temp=X_temp.shape[0]\n",
        "  for i_temp in range(m_temp):\n",
        "    x= X_temp[i_temp,:].reshape(p+1,1)\n",
        "    z2=np.dot(theta1,x)\n",
        "    h2=sigmoid(z2)\n",
        "    h2=np.r_[np.array(1).reshape(1,1), h2]\n",
        "    z3=np.dot(theta2,h2)\n",
        "    h3=sigmoid(z3)\n",
        "    if Y_temp[i_temp,np.argmax(h3)]:\n",
        "      acc+=1\n",
        "  acc=acc/m_temp*100\n",
        "  return acc"
      ],
      "metadata": {
        "id": "dkfNHsVMFtBc"
      },
      "execution_count": 40,
      "outputs": []
    },
    {
      "cell_type": "code",
      "execution_count": 63,
      "metadata": {
        "colab": {
          "base_uri": "https://localhost:8080/"
        },
        "id": "YIVh9yItFV85",
        "outputId": "567e44c0-4f08-47d3-bfc2-6d0330365287"
      },
      "outputs": [
        {
          "output_type": "stream",
          "name": "stdout",
          "text": [
            "Complete: 1\n",
            "The cost of train sample is 0.281671\n",
            "The accuracy of train sample is 95.38\n",
            "The accuracy of test sample is 100.00\n",
            "Complete: 2\n",
            "The cost of train sample is 0.179777\n",
            "The accuracy of train sample is 96.92\n",
            "The accuracy of test sample is 100.00\n",
            "Complete: 3\n",
            "The cost of train sample is 0.148731\n",
            "The accuracy of train sample is 96.92\n",
            "The accuracy of test sample is 100.00\n",
            "Complete: 4\n",
            "The cost of train sample is 0.135621\n",
            "The accuracy of train sample is 96.92\n",
            "The accuracy of test sample is 100.00\n",
            "Complete: 5\n",
            "The cost of train sample is 0.128198\n",
            "The accuracy of train sample is 96.92\n",
            "The accuracy of test sample is 100.00\n",
            "Complete: 6\n",
            "The cost of train sample is 0.122276\n",
            "The accuracy of train sample is 96.92\n",
            "The accuracy of test sample is 100.00\n",
            "Complete: 7\n",
            "The cost of train sample is 0.117252\n",
            "The accuracy of train sample is 96.92\n",
            "The accuracy of test sample is 100.00\n",
            "Complete: 8\n",
            "The cost of train sample is 0.113075\n",
            "The accuracy of train sample is 96.92\n",
            "The accuracy of test sample is 100.00\n",
            "Complete: 9\n",
            "The cost of train sample is 0.109691\n",
            "The accuracy of train sample is 96.92\n",
            "The accuracy of test sample is 100.00\n",
            "Complete: 10\n",
            "The cost of train sample is 0.106976\n",
            "The accuracy of train sample is 96.92\n",
            "The accuracy of test sample is 100.00\n"
          ]
        }
      ],
      "source": [
        "alpha=4\n",
        "n_itr=1000\n",
        "I=int(n_itr/10)\n",
        "cost_history=[]\n",
        "acc_train_history=[]\n",
        "acc_test_history=[]\n",
        "for itr in range(n_itr):\n",
        "  J=0\n",
        "  acc_train=0\n",
        "  for data_index in range(m_train):\n",
        "    #forward propagation\n",
        "    x= X_train[[data_index],:].T\n",
        "    z2=np.dot(theta1,x)\n",
        "    h2=sigmoid(z2)\n",
        "    h2=np.r_[np.ones((1,1)), h2]\n",
        "    z3=np.dot(theta2,h2)\n",
        "    h3=sigmoid(z3)\n",
        "    #back propagation\n",
        "    Ym=h3-Y_train[[data_index],:].T\n",
        "    delta3=2/m_train*(Ym*h3*(1-h3))\n",
        "    theta2=theta2-alpha*delta3@h2.T\n",
        "    delta2=theta2.T@(delta3)*h2*(1-h2)\n",
        "    theta1=theta1-alpha*delta2[1:,:]@x.T\n",
        "    J+=np.linalg.norm(Ym,2)\n",
        "    if Y_train[data_index,np.argmax(h3)]:\n",
        "      acc_train+=1\n",
        "  acc_train*=100/m_train\n",
        "  J/=m_train\n",
        "  cost_history.append(J)\n",
        "  acc_train_history.append(acc_train)\n",
        "  acc_test_history.append(find_accuracy(X_test, Y_test))\n",
        "  if (itr+1) % I==0:\n",
        "    alpha/=1.2\n",
        "    print('Complete:',int((itr+1)/I))\n",
        "    print('The cost of train sample is {:.6f}'.format(J))\n",
        "    print('The accuracy of train sample is {:.2f}'.format(acc_train))\n",
        "    print('The accuracy of test sample is {:.2f}'.format(acc_test_history[-1]))"
      ]
    },
    {
      "cell_type": "code",
      "source": [
        "plt.plot(cost_history)"
      ],
      "metadata": {
        "id": "uY-pwVlMxHU-",
        "colab": {
          "base_uri": "https://localhost:8080/",
          "height": 448
        },
        "outputId": "16a582ac-31ca-486a-c606-a43322151e7b"
      },
      "execution_count": 64,
      "outputs": [
        {
          "output_type": "execute_result",
          "data": {
            "text/plain": [
              "[<matplotlib.lines.Line2D at 0x7ff0273aeb20>]"
            ]
          },
          "metadata": {},
          "execution_count": 64
        },
        {
          "output_type": "display_data",
          "data": {
            "text/plain": [
              "<Figure size 640x480 with 1 Axes>"
            ],
            "image/png": "[encoded data removed]"
          },
          "metadata": {}
        }
      ]
    },
    {
      "cell_type": "code",
      "source": [
        "plt.plot(acc_train_history,label='Train')\n",
        "plt.plot(acc_test_history,label='Test')\n",
        "plt.legend()"
      ],
      "metadata": {
        "colab": {
          "base_uri": "https://localhost:8080/",
          "height": 448
        },
        "id": "Ul6t9HT-1O_-",
        "outputId": "e759e84c-83ff-4943-deab-ecd403d9c271"
      },
      "execution_count": 65,
      "outputs": [
        {
          "output_type": "execute_result",
          "data": {
            "text/plain": [
              "<matplotlib.legend.Legend at 0x7ff02730e400>"
            ]
          },
          "metadata": {},
          "execution_count": 65
        },
        {
          "output_type": "display_data",
          "data": {
            "text/plain": [
              "<Figure size 640x480 with 1 Axes>"
            ],
            "image/png": "[encoded data removed]"
          },
          "metadata": {}
        }
      ]
    },
    {
      "cell_type": "code",
      "source": [
        "index_temp=54\n",
        "x= X[[index_temp],:].T\n",
        "z2=np.dot(theta1,x)\n",
        "h2=sigmoid(z2)\n",
        "h2=np.r_[np.ones((1,1)), h2]\n",
        "z3=np.dot(theta2,h2)\n",
        "h3=sigmoid(z3)\n",
        "print(h3)\n",
        "print(Y[index_temp])\n",
        "print(Y[index_temp,np.argmax(h3)])"
      ],
      "metadata": {
        "colab": {
          "base_uri": "https://localhost:8080/"
        },
        "id": "Za-7oBe-g0JM",
        "outputId": "e6e87ec7-b102-4629-b7e6-fdda84b4e834"
      },
      "execution_count": 72,
      "outputs": [
        {
          "output_type": "stream",
          "name": "stdout",
          "text": [
            "[[0.03616705]\n",
            " [0.94820761]\n",
            " [0.04087911]]\n",
            "[0 1 0]\n",
            "1\n"
          ]
        }
      ]
    },
    {
      "cell_type": "markdown",
      "metadata": {
        "id": "nQxwAGUoQiPw"
      },
      "source": [
        "# Multiple Hidden Layers"
      ]
    },
    {
      "cell_type": "code",
      "source": [
        "X = df.iloc[:, :4]        #features\n",
        "m=X.shape[0]\n",
        "p=X.shape[1]\n",
        "X=np.array(X)\n",
        "iris_type= df.iloc[:, 4]         #outcome\n",
        "Y=[[1, 0, 0] if iris_type[i]=='Iris-setosa' else [0, 1, 0] if iris_type[i]=='Iris-versicolor' else [0, 0, 1] for i in range(m)]\n",
        "Y=np.array(Y)\n",
        "o=Y.shape[1]"
      ],
      "metadata": {
        "id": "zI7H_EylQiP9"
      },
      "execution_count": 133,
      "outputs": []
    },
    {
      "cell_type": "code",
      "source": [
        "stack=list(range(m))\n",
        "N_test=20\n",
        "rd.shuffle(stack)\n",
        "stack_test=stack[:N_test]\n",
        "stack_train=stack[N_test:]"
      ],
      "metadata": {
        "id": "DSpcIXmQQiP-"
      },
      "execution_count": 134,
      "outputs": []
    },
    {
      "cell_type": "code",
      "execution_count": 135,
      "metadata": {
        "id": "gftwdHIfQiP-"
      },
      "outputs": [],
      "source": [
        "X_train = X[stack_train,:]\n",
        "m_train=X_train.shape[0]\n",
        "Y_train = Y[stack_train]"
      ]
    },
    {
      "cell_type": "code",
      "source": [
        "X_test = X[stack_test,:]\n",
        "m_test=X_test.shape[0]\n",
        "Y_test = Y[stack_test]"
      ],
      "metadata": {
        "id": "qlLx7jPaQiP-"
      },
      "execution_count": 136,
      "outputs": []
    },
    {
      "cell_type": "code",
      "execution_count": 174,
      "metadata": {
        "id": "Diio4bBdQiP-"
      },
      "outputs": [],
      "source": [
        "#NN configurations\n",
        "node_list=[p, 2, 4, o]\n",
        "n_layer=len(node_list)\n",
        "theta=[np.random.random((node_list[i+1],node_list[i]+1))-1/2 for i in range(n_layer-1)]"
      ]
    },
    {
      "cell_type": "code",
      "source": [
        "def find_accuracy(X_temp,Y_temp):\n",
        "  acc=0\n",
        "  m_temp=X_temp.shape[0]\n",
        "  for i_temp in range(m_temp):\n",
        "    x= X_temp[i_temp,:].reshape(p,1)\n",
        "    #forward propagation\n",
        "    h=np.r_[np.ones((1,1)), x_here]\n",
        "    for l in range(n_layer-1):      \n",
        "      z_temp=np.dot(theta[l],h)\n",
        "      h=np.r_[np.ones((1,1)),sigmoid(z_temp)]\n",
        "    h_end=h[1:]\n",
        "    if Y_temp[i_temp,np.argmax(h_end)]:\n",
        "      acc+=1\n",
        "  acc=acc/m_temp*100\n",
        "  return acc"
      ],
      "metadata": {
        "id": "M3Bf0JqpQiP9"
      },
      "execution_count": 175,
      "outputs": []
    },
    {
      "cell_type": "code",
      "execution_count": 176,
      "metadata": {
        "colab": {
          "base_uri": "https://localhost:8080/",
          "height": 240
        },
        "outputId": "75519c65-204d-43db-f1d0-54fce1130843",
        "id": "vcftFTLmQiP-"
      },
      "outputs": [
        {
          "output_type": "error",
          "ename": "ValueError",
          "evalue": "ignored",
          "traceback": [
            "\u001b[0;31m---------------------------------------------------------------------------\u001b[0m",
            "\u001b[0;31mValueError\u001b[0m                                Traceback (most recent call last)",
            "\u001b[0;32m<ipython-input-176-ac532939e7c5>\u001b[0m in \u001b[0;36m<cell line: 7>\u001b[0;34m()\u001b[0m\n\u001b[1;32m     23\u001b[0m     \u001b[0mtheta\u001b[0m\u001b[0;34m[\u001b[0m\u001b[0;34m-\u001b[0m\u001b[0;36m1\u001b[0m\u001b[0;34m]\u001b[0m\u001b[0;34m-=\u001b[0m\u001b[0malpha\u001b[0m\u001b[0;34m*\u001b[0m\u001b[0mdelta\u001b[0m\u001b[0;34m@\u001b[0m\u001b[0mh\u001b[0m\u001b[0;34m[\u001b[0m\u001b[0;34m-\u001b[0m\u001b[0;36m2\u001b[0m\u001b[0;34m]\u001b[0m\u001b[0;34m.\u001b[0m\u001b[0mT\u001b[0m\u001b[0;34m\u001b[0m\u001b[0;34m\u001b[0m\u001b[0m\n\u001b[1;32m     24\u001b[0m     \u001b[0;32mfor\u001b[0m \u001b[0ml\u001b[0m \u001b[0;32min\u001b[0m \u001b[0mrange\u001b[0m\u001b[0;34m(\u001b[0m\u001b[0;36m2\u001b[0m\u001b[0;34m,\u001b[0m\u001b[0mn_layer\u001b[0m\u001b[0;34m)\u001b[0m\u001b[0;34m:\u001b[0m\u001b[0;34m\u001b[0m\u001b[0;34m\u001b[0m\u001b[0m\n\u001b[0;32m---> 25\u001b[0;31m       \u001b[0mdelta\u001b[0m\u001b[0;34m=\u001b[0m\u001b[0mtheta\u001b[0m\u001b[0;34m[\u001b[0m\u001b[0;34m-\u001b[0m\u001b[0ml\u001b[0m\u001b[0;34m+\u001b[0m\u001b[0;36m1\u001b[0m\u001b[0;34m]\u001b[0m\u001b[0;34m.\u001b[0m\u001b[0mT\u001b[0m\u001b[0;34m@\u001b[0m\u001b[0mdelta\u001b[0m\u001b[0;34m*\u001b[0m\u001b[0mh\u001b[0m\u001b[0;34m[\u001b[0m\u001b[0;34m-\u001b[0m\u001b[0ml\u001b[0m\u001b[0;34m]\u001b[0m\u001b[0;34m*\u001b[0m\u001b[0;34m(\u001b[0m\u001b[0;36m1\u001b[0m\u001b[0;34m-\u001b[0m\u001b[0mh\u001b[0m\u001b[0;34m[\u001b[0m\u001b[0;34m-\u001b[0m\u001b[0ml\u001b[0m\u001b[0;34m]\u001b[0m\u001b[0;34m)\u001b[0m\u001b[0;34m\u001b[0m\u001b[0;34m\u001b[0m\u001b[0m\n\u001b[0m\u001b[1;32m     26\u001b[0m       \u001b[0mtheta\u001b[0m\u001b[0;34m[\u001b[0m\u001b[0;34m-\u001b[0m\u001b[0ml\u001b[0m\u001b[0;34m]\u001b[0m\u001b[0;34m-=\u001b[0m\u001b[0malpha\u001b[0m\u001b[0;34m*\u001b[0m\u001b[0mdelta\u001b[0m\u001b[0;34m[\u001b[0m\u001b[0;36m1\u001b[0m\u001b[0;34m:\u001b[0m\u001b[0;34m]\u001b[0m\u001b[0;34m@\u001b[0m\u001b[0mh\u001b[0m\u001b[0;34m[\u001b[0m\u001b[0;34m-\u001b[0m\u001b[0ml\u001b[0m\u001b[0;34m-\u001b[0m\u001b[0;36m1\u001b[0m\u001b[0;34m]\u001b[0m\u001b[0;34m.\u001b[0m\u001b[0mT\u001b[0m\u001b[0;34m\u001b[0m\u001b[0;34m\u001b[0m\u001b[0m\n\u001b[1;32m     27\u001b[0m     \u001b[0mJ\u001b[0m\u001b[0;34m+=\u001b[0m\u001b[0mnp\u001b[0m\u001b[0;34m.\u001b[0m\u001b[0mlinalg\u001b[0m\u001b[0;34m.\u001b[0m\u001b[0mnorm\u001b[0m\u001b[0;34m(\u001b[0m\u001b[0mYm\u001b[0m\u001b[0;34m,\u001b[0m\u001b[0;36m2\u001b[0m\u001b[0;34m)\u001b[0m\u001b[0;34m\u001b[0m\u001b[0;34m\u001b[0m\u001b[0m\n",
            "\u001b[0;31mValueError\u001b[0m: matmul: Input operand 1 has a mismatch in its core dimension 0, with gufunc signature (n?,k),(k,m?)->(n?,m?) (size 5 is different from 4)"
          ]
        }
      ],
      "source": [
        "alpha=4\n",
        "n_itr=1000\n",
        "I=int(n_itr/10)\n",
        "cost_history=[]\n",
        "acc_train_history=[]\n",
        "acc_test_history=[]\n",
        "for itr in range(n_itr):\n",
        "  J=0\n",
        "  acc_train=0\n",
        "  for data_index in range(m_train):\n",
        "    x_here= X_train[[data_index],:].T\n",
        "    y_here=Y_train[[data_index],:].T\n",
        "    #forward propagation\n",
        "    h=[]\n",
        "    h.append(np.r_[np.ones((1,1)), x_here])\n",
        "    for l in range(n_layer-1):      \n",
        "      z_temp=np.dot(theta[l],h[l])\n",
        "      h.append(np.r_[np.ones((1,1)),sigmoid(z_temp)])\n",
        "    #back propagation\n",
        "    h_end=h[-1][1:]\n",
        "    Ym=h_end-y_here\n",
        "    delta=2/m_train*(Ym*h_end*(1-h_end))\n",
        "    theta[-1]-=alpha*delta@h[-2].T\n",
        "    for l in range(2,n_layer):\n",
        "      delta=theta[-l+1].T@delta*h[-l]*(1-h[-l])\n",
        "      theta[-l]-=alpha*delta[1:]@h[-l-1].T\n",
        "    J+=np.linalg.norm(Ym,2)\n",
        "    if Y_train[data_index,np.argmax(h_end)]:\n",
        "      acc_train+=1\n",
        "  acc_train*=100/m_train\n",
        "  J/=m_train\n",
        "  cost_history.append(J)\n",
        "  acc_train_history.append(acc_train)\n",
        "  acc_test_history.append(find_accuracy(X_test, Y_test))\n",
        "  if (itr+1) % I==0:\n",
        "    alpha/=1.2\n",
        "    print('Complete:',int((itr+1)/I))\n",
        "    print('The cost of train sample is {:.6f}'.format(J))\n",
        "    print('The accuracy of train sample is {:.2f}'.format(acc_train))\n",
        "    print('The accuracy of test sample is {:.2f}'.format(acc_test_history[-1]))"
      ]
    },
    {
      "cell_type": "code",
      "source": [
        "plt.plot(cost_history)"
      ],
      "metadata": {
        "colab": {
          "base_uri": "https://localhost:8080/",
          "height": 448
        },
        "outputId": "30d5434b-bc0b-4b58-a828-c68f83ffde09",
        "id": "aFrw7Hz8QiP-"
      },
      "execution_count": 140,
      "outputs": [
        {
          "output_type": "execute_result",
          "data": {
            "text/plain": [
              "[<matplotlib.lines.Line2D at 0x7ff02707c2e0>]"
            ]
          },
          "metadata": {},
          "execution_count": 140
        },
        {
          "output_type": "display_data",
          "data": {
            "text/plain": [
              "<Figure size 640x480 with 1 Axes>"
            ],
            "image/png": "[encoded data removed]"
          },
          "metadata": {}
        }
      ]
    },
    {
      "cell_type": "code",
      "source": [
        "plt.plot(acc_train_history,label='Train')\n",
        "plt.plot(acc_test_history,label='Test')\n",
        "plt.legend()"
      ],
      "metadata": {
        "colab": {
          "base_uri": "https://localhost:8080/",
          "height": 448
        },
        "outputId": "c13e19b1-c23f-49dd-86f2-dc707928438a",
        "id": "OyShMTKuQiP_"
      },
      "execution_count": 141,
      "outputs": [
        {
          "output_type": "execute_result",
          "data": {
            "text/plain": [
              "<matplotlib.legend.Legend at 0x7ff0270637c0>"
            ]
          },
          "metadata": {},
          "execution_count": 141
        },
        {
          "output_type": "display_data",
          "data": {
            "text/plain": [
              "<Figure size 640x480 with 1 Axes>"
            ],
            "image/png": "[encoded data removed]"
          },
          "metadata": {}
        }
      ]
    },
    {
      "cell_type": "code",
      "source": [
        "index_temp=54\n",
        "x= X[[index_temp],:].T\n",
        "z2=np.dot(theta1,x)\n",
        "h2=sigmoid(z2)\n",
        "h2=np.r_[np.ones((1,1)), h2]\n",
        "z3=np.dot(theta2,h2)\n",
        "h3=sigmoid(z3)\n",
        "print(h3)\n",
        "print(Y[index_temp])\n",
        "print(Y[index_temp,np.argmax(h3)])"
      ],
      "metadata": {
        "colab": {
          "base_uri": "https://localhost:8080/",
          "height": 276
        },
        "outputId": "b8d02e89-cafd-43f3-8d0b-ad04bf5dc465",
        "id": "0Hhnl2XOQiP_"
      },
      "execution_count": 142,
      "outputs": [
        {
          "output_type": "error",
          "ename": "ValueError",
          "evalue": "ignored",
          "traceback": [
            "\u001b[0;31m---------------------------------------------------------------------------\u001b[0m",
            "\u001b[0;31mValueError\u001b[0m                                Traceback (most recent call last)",
            "\u001b[0;32m<ipython-input-142-d131229a8475>\u001b[0m in \u001b[0;36m<cell line: 3>\u001b[0;34m()\u001b[0m\n\u001b[1;32m      1\u001b[0m \u001b[0mindex_temp\u001b[0m\u001b[0;34m=\u001b[0m\u001b[0;36m54\u001b[0m\u001b[0;34m\u001b[0m\u001b[0;34m\u001b[0m\u001b[0m\n\u001b[1;32m      2\u001b[0m \u001b[0mx\u001b[0m\u001b[0;34m=\u001b[0m \u001b[0mX\u001b[0m\u001b[0;34m[\u001b[0m\u001b[0;34m[\u001b[0m\u001b[0mindex_temp\u001b[0m\u001b[0;34m]\u001b[0m\u001b[0;34m,\u001b[0m\u001b[0;34m:\u001b[0m\u001b[0;34m]\u001b[0m\u001b[0;34m.\u001b[0m\u001b[0mT\u001b[0m\u001b[0;34m\u001b[0m\u001b[0;34m\u001b[0m\u001b[0m\n\u001b[0;32m----> 3\u001b[0;31m \u001b[0mz2\u001b[0m\u001b[0;34m=\u001b[0m\u001b[0mnp\u001b[0m\u001b[0;34m.\u001b[0m\u001b[0mdot\u001b[0m\u001b[0;34m(\u001b[0m\u001b[0mtheta1\u001b[0m\u001b[0;34m,\u001b[0m\u001b[0mx\u001b[0m\u001b[0;34m)\u001b[0m\u001b[0;34m\u001b[0m\u001b[0;34m\u001b[0m\u001b[0m\n\u001b[0m\u001b[1;32m      4\u001b[0m \u001b[0mh2\u001b[0m\u001b[0;34m=\u001b[0m\u001b[0msigmoid\u001b[0m\u001b[0;34m(\u001b[0m\u001b[0mz2\u001b[0m\u001b[0;34m)\u001b[0m\u001b[0;34m\u001b[0m\u001b[0;34m\u001b[0m\u001b[0m\n\u001b[1;32m      5\u001b[0m \u001b[0mh2\u001b[0m\u001b[0;34m=\u001b[0m\u001b[0mnp\u001b[0m\u001b[0;34m.\u001b[0m\u001b[0mr_\u001b[0m\u001b[0;34m[\u001b[0m\u001b[0mnp\u001b[0m\u001b[0;34m.\u001b[0m\u001b[0mones\u001b[0m\u001b[0;34m(\u001b[0m\u001b[0;34m(\u001b[0m\u001b[0;36m1\u001b[0m\u001b[0;34m,\u001b[0m\u001b[0;36m1\u001b[0m\u001b[0;34m)\u001b[0m\u001b[0;34m)\u001b[0m\u001b[0;34m,\u001b[0m \u001b[0mh2\u001b[0m\u001b[0;34m]\u001b[0m\u001b[0;34m\u001b[0m\u001b[0;34m\u001b[0m\u001b[0m\n",
            "\u001b[0;32m/usr/local/lib/python3.9/dist-packages/numpy/core/overrides.py\u001b[0m in \u001b[0;36mdot\u001b[0;34m(*args, **kwargs)\u001b[0m\n",
            "\u001b[0;31mValueError\u001b[0m: shapes (3,5) and (4,1) not aligned: 5 (dim 1) != 4 (dim 0)"
          ]
        }
      ]
    }
  ],
  "metadata": {
    "colab": {
      "provenance": [],
      "authorship_tag": "ABX9TyPYxxhYAtJhKofVT9d2/6TY",
      "include_colab_link": true
    },
    "kernelspec": {
      "display_name": "Python 3",
      "name": "python3"
    },
    "language_info": {
      "name": "python"
    }
  },
  "nbformat": 4,
  "nbformat_minor": 0
}