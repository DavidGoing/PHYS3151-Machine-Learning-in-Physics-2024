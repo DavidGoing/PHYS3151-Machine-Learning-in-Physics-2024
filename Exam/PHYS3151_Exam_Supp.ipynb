{
  "nbformat": 4,
  "nbformat_minor": 0,
  "metadata": {
    "colab": {
      "provenance": []
    },
    "kernelspec": {
      "name": "python3",
      "display_name": "Python 3"
    },
    "language_info": {
      "name": "python"
    }
  },
  "cells": [
    {
      "cell_type": "code",
      "execution_count": null,
      "metadata": {
        "id": "0owzE6khyuqW"
      },
      "outputs": [],
      "source": [
        "import numpy as np\n",
        "import matplotlib.pyplot as plt\n",
        "from matplotlib import cm\n",
        "from mpl_toolkits.mplot3d import Axes3D\n",
        "from mpl_toolkits import mplot3d\n",
        "import itertools\n",
        "import csv\n",
        "import random\n",
        "import math\n",
        "import pandas as pd"
      ]
    },
    {
      "cell_type": "markdown",
      "source": [
        "# Q2"
      ],
      "metadata": {
        "id": "59KXeaPgl_zP"
      }
    },
    {
      "cell_type": "code",
      "source": [
        "N=100\n",
        "random.seed\n",
        "def location_E(t):\n",
        "    return  - (9.81/2)*(t*(1+0.2*(random.random()-0.5)*2))**2+5*(random.random()-0.5)*2\n",
        "def location_M(t):\n",
        "    return  - (1.62/2)*(t*(1+0.2*(random.random()-0.5)*2))**2+5*(random.random()-0.5)*2\n",
        "with open('gravity_location_data.csv', mode='w') as gravity_file:\n",
        "    gravity_writer = csv.writer(gravity_file, delimiter=',', quotechar='\"', quoting=csv.QUOTE_MINIMAL)\n",
        "    gravity_writer.writerow([ 'time', 'location', 'Earth/Moon'])\n",
        "    for i in range(N):\n",
        "        time = random.uniform(0,5)\n",
        "        gravity_writer.writerow([ time, location_E(time), 'Earth'])\n",
        "    for i in range(N):\n",
        "        time = random.uniform(0,5)\n",
        "        gravity_writer.writerow([ time, location_M(time), 'Moon'])"
      ],
      "metadata": {
        "id": "nMhKhvw3pHpY"
      },
      "execution_count": null,
      "outputs": []
    },
    {
      "cell_type": "markdown",
      "source": [
        "# Q3"
      ],
      "metadata": {
        "id": "0XhLwkYhnCKb"
      }
    },
    {
      "cell_type": "code",
      "execution_count": null,
      "metadata": {
        "colab": {
          "base_uri": "https://localhost:8080/"
        },
        "outputId": "49f7365e-fead-49f6-ffe6-01942c3d3152",
        "id": "kfDpPPrknE6G"
      },
      "outputs": [
        {
          "output_type": "stream",
          "name": "stdout",
          "text": [
            "Cloning into 'PHYS3151-Machine-Learning-in-Physics-2023'...\n",
            "remote: Enumerating objects: 479, done.\u001b[K\n",
            "remote: Counting objects: 100% (62/62), done.\u001b[K\n",
            "remote: Compressing objects: 100% (60/60), done.\u001b[K\n",
            "remote: Total 479 (delta 32), reused 2 (delta 2), pack-reused 417\u001b[K\n",
            "Receiving objects: 100% (479/479), 27.62 MiB | 24.01 MiB/s, done.\n",
            "Resolving deltas: 100% (249/249), done.\n"
          ]
        }
      ],
      "source": [
        "!git clone https://github.com/LeoisWTT/PHYS3151-Machine-Learning-in-Physics-2023"
      ]
    },
    {
      "cell_type": "code",
      "source": [
        "# spin configurations\n",
        "df1 = pd.read_csv(\"/content/PHYS3151-Machine-Learning-in-Physics-2023/Exam/dataset/AF_conf.csv\",header=None) \n",
        "# temperature\n",
        "df2 = pd.read_csv(\"/content/PHYS3151-Machine-Learning-in-Physics-2023/Exam/dataset/AF_temp.csv\",header=None)\n",
        "df1 = df1.to_numpy()\n",
        "df2 = df2.to_numpy()\n",
        "x = df1\n",
        "t = df2\n",
        "t = t.T"
      ],
      "metadata": {
        "id": "RTgthTSilqku"
      },
      "execution_count": null,
      "outputs": []
    },
    {
      "cell_type": "markdown",
      "source": [
        "# Q4"
      ],
      "metadata": {
        "id": "amxRLt_smX-p"
      }
    },
    {
      "cell_type": "code",
      "execution_count": null,
      "metadata": {
        "id": "utwwSgb22u5Y"
      },
      "outputs": [],
      "source": [
        "df = pd.read_csv(\"/content/PHYS3151-Machine-Learning-in-Physics-2023/Exam/dataset/NN_data.csv\", sep=\",\")"
      ]
    }
  ]
}