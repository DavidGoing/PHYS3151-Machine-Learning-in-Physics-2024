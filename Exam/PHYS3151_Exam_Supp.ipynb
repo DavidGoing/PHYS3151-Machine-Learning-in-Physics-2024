{
  "cells": [
    {
      "cell_type": "code",
      "execution_count": null,
      "metadata": {
        "id": "0owzE6khyuqW"
      },
      "outputs": [],
      "source": [
        "import numpy as np\n",
        "import matplotlib.pyplot as plt\n",
        "from matplotlib import cm\n",
        "from mpl_toolkits.mplot3d import Axes3D\n",
        "from mpl_toolkits import mplot3d\n",
        "import itertools\n",
        "import csv\n",
        "import random\n",
        "import math\n",
        "import pandas as pd"
      ]
    },
    {
      "cell_type": "markdown",
      "metadata": {
        "id": "59KXeaPgl_zP"
      },
      "source": [
        "# Q2"
      ]
    },
    {
      "cell_type": "code",
      "execution_count": null,
      "metadata": {
        "id": "nMhKhvw3pHpY"
      },
      "outputs": [],
      "source": [
        "N=100\n",
        "random.seed\n",
        "def location_E(t):\n",
        "    return  - (9.81/2)*(t*(1+0.2*(random.random()-0.5)*2))**2+5*(random.random()-0.5)*2\n",
        "def location_M(t):\n",
        "    return  - (3.7/2)*(t*(1+0.2*(random.random()-0.5)*2))**2+5*(random.random()-0.5)*2\n",
        "with open('gravity_location_data.csv', mode='w') as gravity_file:\n",
        "    gravity_writer = csv.writer(gravity_file, delimiter=',', quotechar='\"', quoting=csv.QUOTE_MINIMAL)\n",
        "    gravity_writer.writerow([ 'time', 'location', 'Earth/Jupyter'])\n",
        "    for i in range(N):\n",
        "        time = random.uniform(0,5)\n",
        "        gravity_writer.writerow([ time, location_E(time), 'Earth'])\n",
        "    for i in range(N):\n",
        "        time = random.uniform(0,5)\n",
        "        gravity_writer.writerow([ time, location_M(time), 'Jupyter'])"
      ]
    },
    {
      "cell_type": "markdown",
      "metadata": {
        "id": "0XhLwkYhnCKb"
      },
      "source": [
        "# Q3 and Q4"
      ]
    },
    {
      "cell_type": "code",
      "execution_count": 1,
      "metadata": {
        "colab": {
          "base_uri": "https://localhost:8080/"
        },
        "id": "kfDpPPrknE6G",
        "outputId": "49f7365e-fead-49f6-ffe6-01942c3d3152"
      },
      "outputs": [
        {
          "name": "stderr",
          "output_type": "stream",
          "text": [
            "'git' �����ڲ����ⲿ���Ҳ���ǿ����еĳ���\n",
            "���������ļ���\n"
          ]
        }
      ],
      "source": [
        "!git clone https://github.com/DavidGoing/PHYS3151-Machine-Learning-in-Physics-2024"
      ]
    },
    {
      "cell_type": "code",
      "execution_count": null,
      "metadata": {
        "id": "RTgthTSilqku"
      },
      "outputs": [],
      "source": [
        "# spin configurations\n",
        "df1 = pd.read_csv(\"/content/PHYS3151-Machine-Learning-in-Physics-2024/Exam/F_conf.csv\",header=None) \n",
        "# temperature\n",
        "df2 = pd.read_csv(\"/content/PHYS3151-Machine-Learning-in-Physics-2024/Exam/F_temp.csv\",header=None)\n",
        "df1 = df1.to_numpy()\n",
        "df2 = df2.to_numpy()\n",
        "x = df1\n",
        "t = df2\n",
        "t = t.T"
      ]
    }
  ],
  "metadata": {
    "colab": {
      "provenance": []
    },
    "kernelspec": {
      "display_name": "Python 3",
      "name": "python3"
    },
    "language_info": {
      "codemirror_mode": {
        "name": "ipython",
        "version": 3
      },
      "file_extension": ".py",
      "mimetype": "text/x-python",
      "name": "python",
      "nbconvert_exporter": "python",
      "pygments_lexer": "ipython3",
      "version": "3.11.4"
    }
  },
  "nbformat": 4,
  "nbformat_minor": 0
}
